{
 "cells": [
  {
   "cell_type": "code",
   "execution_count": null,
   "metadata": {},
   "outputs": [],
   "source": [
    "import matplotlib.pyplot as plt\n",
    "from PIL import Image\n",
    "\n",
    "image_path = 'sunwxxpi.png'\n",
    "image = Image.open(image_path)\n",
    "\n",
    "gray_image = image.convert('L')\n",
    "\n",
    "image.save('saved_image.png')\n",
    "gray_image.save('gray_image.png')\n",
    "\n",
    "# 한 행에 두 개의 이미지를 그리기 위해 Subplot 생성\n",
    "fig, axes = plt.subplots(1, 2, figsize=(10, 5))\n",
    "\n",
    "# 원본 이미지 표시\n",
    "axes[0].imshow(image)\n",
    "axes[0].axis('off')\n",
    "axes[0].set_title('Original Image')\n",
    "\n",
    "# 그레이스케일 이미지 표시\n",
    "axes[1].imshow(gray_image, cmap='gray')\n",
    "axes[1].axis('off')\n",
    "axes[1].set_title('Grayscale Image')\n",
    "\n",
    "plt.tight_layout()\n",
    "plt.savefig('image.png')\n",
    "plt.show()"
   ]
  }
 ],
 "metadata": {
  "kernelspec": {
   "display_name": "prac",
   "language": "python",
   "name": "python3"
  },
  "language_info": {
   "codemirror_mode": {
    "name": "ipython",
    "version": 3
   },
   "file_extension": ".py",
   "mimetype": "text/x-python",
   "name": "python",
   "nbconvert_exporter": "python",
   "pygments_lexer": "ipython3",
   "version": "3.10.14"
  }
 },
 "nbformat": 4,
 "nbformat_minor": 2
}
