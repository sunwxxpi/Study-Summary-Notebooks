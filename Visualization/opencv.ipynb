{
 "cells": [
  {
   "cell_type": "code",
   "execution_count": null,
   "metadata": {},
   "outputs": [],
   "source": [
    "import cv2\n",
    "import matplotlib.pyplot as plt\n",
    "\n",
    "# OpenCV는 BGR 형식으로 이미지를 처리한다.\n",
    "# Matplotlib는 RGB 형식으로 이미지를 처리한다.\n",
    "# OpenCV로 읽은 이미지를 Matplotlib로 출력하려면 BGR을 RGB로 변환해야 한다.\n",
    "\n",
    "image_path = 'sunwxxpi.png'\n",
    "image = cv2.imread(image_path)\n",
    "\n",
    "image_rgb = cv2.cvtColor(image, cv2.COLOR_BGR2RGB)\n",
    "\n",
    "cv2.imwrite('saved_image.png', image)\n",
    "plt.imshow(image_rgb)\n",
    "plt.axis('off')\n",
    "plt.show()\n",
    "\n",
    "gray_image = cv2.cvtColor(image, cv2.COLOR_BGR2GRAY)\n",
    "\n",
    "cv2.imwrite('gray_image.png', gray_image)\n",
    "plt.imshow(gray_image, cmap='gray') # imshow()는 기본적으로 RGB 이미지를 처리하므로 cmap='gray'를 지정해야 한다.\n",
    "plt.axis('off')\n",
    "plt.show()"
   ]
  }
 ],
 "metadata": {
  "kernelspec": {
   "display_name": "prac",
   "language": "python",
   "name": "python3"
  },
  "language_info": {
   "codemirror_mode": {
    "name": "ipython",
    "version": 3
   },
   "file_extension": ".py",
   "mimetype": "text/x-python",
   "name": "python",
   "nbconvert_exporter": "python",
   "pygments_lexer": "ipython3",
   "version": "3.10.14"
  }
 },
 "nbformat": 4,
 "nbformat_minor": 2
}
