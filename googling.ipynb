{
 "cells": [
  {
   "cell_type": "markdown",
   "metadata": {},
   "source": [
    "# Googling Tips\n",
    "---"
   ]
  },
  {
   "cell_type": "markdown",
   "metadata": {},
   "source": [
    "### site:()\n",
    "`() 내에서 검색`\n",
    "\n",
    "### filetype:()\n",
    "`()의 File 확장자로 검색`\n",
    "\n",
    "### \"()\"\n",
    "`() Keyword로 검색`\n",
    "\n",
    "### +() -()\n",
    "`검색에 포함되어 있기를, 혹은 미포함되어 있기를 원하는 문구를 지정, -\"()\"도 가능`\n",
    "\n",
    "### () OR ()\n",
    "`두가지의 검색어 중 최소 하나의 검색어와 일치하는 결과가 나옴.`\n",
    "\n",
    "### () AND ()\n",
    "`두가지의 검색어가 모두 포함된 결과가 나옴.`\n",
    "\n",
    "### before:() after:()\n",
    "`해당 연도 이전, 혹은 이후의 자료들을 검색`"
   ]
  }
 ],
 "metadata": {
  "language_info": {
   "name": "python"
  }
 },
 "nbformat": 4,
 "nbformat_minor": 2
}
