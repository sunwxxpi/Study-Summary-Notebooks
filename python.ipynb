{
 "cells": [
  {
   "cell_type": "markdown",
   "metadata": {},
   "source": [
    "# Basic"
   ]
  },
  {
   "cell_type": "code",
   "execution_count": null,
   "metadata": {},
   "outputs": [],
   "source": [
    "print(0x10) # 16진수\n",
    "print(0o30) # 8진수\n",
    "print(0b1000) # 2진수"
   ]
  },
  {
   "cell_type": "code",
   "execution_count": null,
   "metadata": {},
   "outputs": [],
   "source": [
    "# ;를 사용하여 한 줄에 작성 가능\n",
    "a=3; b=4\n",
    "print(a); print(b)"
   ]
  },
  {
   "cell_type": "code",
   "execution_count": null,
   "metadata": {},
   "outputs": [],
   "source": [
    "# 변수 선언 삭제, Memory 관리 가능\n",
    "a = 3\n",
    "del a\n",
    "\n",
    "print(a)"
   ]
  },
  {
   "cell_type": "code",
   "execution_count": null,
   "metadata": {},
   "outputs": [],
   "source": [
    "print(\"Hello\", \"World!\")\n",
    "\n",
    "print(\"Hello\", \"World!\", sep=\"HaHa\", end=\"\\n\\n\") # sep과 end의 default 값\n",
    "print(\"End\")"
   ]
  },
  {
   "cell_type": "code",
   "execution_count": null,
   "metadata": {},
   "outputs": [],
   "source": [
    "# r(Raw) String\n",
    "print(\"\\\\\\\\\\'\")\n",
    "print(r\"\\\\'\") # 하지만 r string은 마지막에 \\를 붙이면 에러 발생"
   ]
  },
  {
   "cell_type": "code",
   "execution_count": null,
   "metadata": {},
   "outputs": [],
   "source": [
    "# == : 값 자체 비교\n",
    "# is : 객체(메모리 주소) 비교\n",
    "a = 257; b = 257\n",
    "print(a == b)\n",
    "print(a is b)\n",
    "\n",
    "# -5 ~ 256까지는 메모리 주소가 같음\n",
    "# 내부 Casheing\n",
    "# Interning\n",
    "c = 3; d = 3\n",
    "print(c == d)\n",
    "print(c is d)"
   ]
  },
  {
   "cell_type": "code",
   "execution_count": null,
   "metadata": {},
   "outputs": [],
   "source": [
    "x = 2\n",
    "print(x & 3) # & : 비트 연산자\n",
    "print(x>1 and x<5) # and : 논리 연산자\n",
    "\n",
    "y = 3\n",
    "print(y | 8) # | : 비트 연산자\n",
    "print(y == 3 or y == 4) # or : 논리 연산자"
   ]
  },
  {
   "cell_type": "code",
   "execution_count": null,
   "metadata": {},
   "outputs": [],
   "source": [
    "a, b, c = 1, 2, 3\n",
    "print(a, b, c)\n",
    "\n",
    "d = [[1, 2, 3], [4, 5, 6]]\n",
    "for x, y, z in d:\n",
    "    print(x, y, z)"
   ]
  },
  {
   "cell_type": "code",
   "execution_count": null,
   "metadata": {},
   "outputs": [],
   "source": [
    "several_line_str = '''꿀꽈배기는\n",
    "너무\n",
    "맛있어요'''\n",
    "print(several_line_str)"
   ]
  },
  {
   "cell_type": "code",
   "execution_count": null,
   "metadata": {},
   "outputs": [],
   "source": [
    "a, b, c = 1e9, 75.25e1, 3954e-3 # 지수 표현 방식은 실수 자료형으로 처리\n",
    "print(a, b, c)\n",
    "\n",
    "a = 0.3 + 0.6 # 실제로는 0.8999999999999999\n",
    "print(a)\n",
    "print(f'{a:.1f}')"
   ]
  },
  {
   "cell_type": "code",
   "execution_count": null,
   "metadata": {},
   "outputs": [],
   "source": [
    "# Iterator(반복자)\n",
    "a = [1, 2, 3]\n",
    "a_it = iter(a)\n",
    "\n",
    "print(type(a_it))\n",
    "print(next(a_it))\n",
    "print(next(a_it))\n",
    "print(next(a_it))\n",
    "print(next(a_it)) # StopIteration 발생"
   ]
  },
  {
   "cell_type": "code",
   "execution_count": null,
   "metadata": {},
   "outputs": [],
   "source": [
    "# Python Type Annotation\n",
    "my_var: int = 3\n",
    "\n",
    "def add(a: int, b: int) -> int:\n",
    "    return a+b\n",
    "\n",
    "my_var = \"hello\" # Python Type Annotation과 다른 타입을 할당해도 에러 발생하지 않음, Type에 대한 Hint만 제공\n",
    "print(my_var)\n",
    "print(add(\"123\", \"456\")) # Python Type Annotation과 다른 타입을 할당해도 에러 발생하지 않음, Type에 대한 Hint만 제공"
   ]
  },
  {
   "cell_type": "markdown",
   "metadata": {},
   "source": [
    "# 여러 함수들"
   ]
  },
  {
   "cell_type": "code",
   "execution_count": null,
   "metadata": {},
   "outputs": [],
   "source": [
    "# bool(), Bool type : True & False\n",
    "print(bool(1))\n",
    "print(bool([1, 2]))\n",
    "print(bool(\"abc\"))\n",
    "\n",
    "print(bool(0))\n",
    "print(bool([]))\n",
    "print(bool(\"\"))"
   ]
  },
  {
   "cell_type": "code",
   "execution_count": null,
   "metadata": {},
   "outputs": [],
   "source": [
    "# type() & isinstance()\n",
    "print(type(123))\n",
    "\n",
    "if type(123) is int:\n",
    "    print(\"It's int\")\n",
    "\n",
    "if type(123) == int:\n",
    "    print(\"It's int\")\n",
    "    \n",
    "if isinstance(123, int):\n",
    "    print(\"It's int\")"
   ]
  },
  {
   "cell_type": "code",
   "execution_count": null,
   "metadata": {},
   "outputs": [],
   "source": [
    "# copy() & copy.deepcopy()\n",
    "a = [1, 2, 3]\n",
    "b = a # 주소 복사\n",
    "c = a.copy() # copy() : 새로운 객체 생성\n",
    "a[1] = 10\n",
    "print(f'a = {a}, b = {b}, c = {c}')\n",
    "\n",
    "a = [[1, 2], [3, 4]]\n",
    "b = a.copy()\n",
    "b[0][1] = 10\n",
    "print(a, b)\n",
    "\n",
    "# copy.deepcopy() : 중첩된 객체까지 복사\n",
    "from copy import deepcopy\n",
    "\n",
    "a = [[1, 2], [3, 4]]\n",
    "b = deepcopy(a)\n",
    "b[0][1] = 10\n",
    "print(a, b)"
   ]
  },
  {
   "cell_type": "code",
   "execution_count": null,
   "metadata": {},
   "outputs": [],
   "source": [
    "# round()\n",
    "print(\"round()\")\n",
    "a = 3.141592\n",
    "b = 123.456\n",
    "c = 1234.56789\n",
    "print(round(a, 2)) # 소수점 2자리까지 반올림\n",
    "print(round(b, 0)) # 정수로 반올림\n",
    "print(round(c, -1), end=\"\\n\\n\") # 10의 자리까지 반올림\n",
    "\n",
    "print(round(12343.125, 2)) # round()에서는 반올림할 때, 5는 내림 처리 (사실 12343.124988877이기 때문), NumPy에서는 올림 처리"
   ]
  },
  {
   "cell_type": "code",
   "execution_count": null,
   "metadata": {},
   "outputs": [],
   "source": [
    "# abs() : 절대값\n",
    "print(abs(-3))\n",
    "print(abs(3))\n",
    "print(abs(-1.2))"
   ]
  },
  {
   "cell_type": "code",
   "execution_count": null,
   "metadata": {},
   "outputs": [],
   "source": [
    "# trunc() : 소수 부분 제거\n",
    "import math\n",
    "\n",
    "print(math.trunc(7.14))\n",
    "print(math.trunc(-7.14)) # 소수 부분만 제거"
   ]
  },
  {
   "cell_type": "code",
   "execution_count": null,
   "metadata": {},
   "outputs": [],
   "source": [
    "# all() & any()\n",
    "print(all([1, 2, 3]))\n",
    "print(all([1, 2, 3, 0]))\n",
    "\n",
    "print(any([1, 2, 3]))\n",
    "print(any([1, 2, 3, 0]))\n",
    "print(any([0, \"\"]))"
   ]
  },
  {
   "cell_type": "code",
   "execution_count": null,
   "metadata": {},
   "outputs": [],
   "source": [
    "# chr() & ord()\n",
    "print(chr(65)) # ASCII 코드를 입력받아 문자 출력\n",
    "print(ord('A')) # 문자를 입력받아 ASCII 코드 출력"
   ]
  },
  {
   "cell_type": "code",
   "execution_count": null,
   "metadata": {},
   "outputs": [],
   "source": [
    "# time() & sleep()\n",
    "import time\n",
    "\n",
    "print(time.time()) # 1970년 1월 1일 0시 0분 0초부터 현재까지의 시간을 초 단위로 반환\n",
    "\n",
    "for i in range(5):\n",
    "    print(i)\n",
    "    time.sleep(1)\n",
    "\n",
    "# 시간 측정 예시\n",
    "def example_function():\n",
    "    total = 0\n",
    "    for i in range(1000000):\n",
    "        total += i\n",
    "        \n",
    "    return total\n",
    "\n",
    "start_time = time.time()\n",
    "result = example_function()\n",
    "end_time = time.time()\n",
    "\n",
    "elapsed_time = end_time - start_time\n",
    "print(f\"Function execution time: {elapsed_time} seconds\")"
   ]
  },
  {
   "cell_type": "markdown",
   "metadata": {},
   "source": [
    "# List\n",
    "List는 Mutable 객체, 변경 가능 하기 때문에 Method(메소드)를 사용하는 경우, 원본이 객체가 변경됨."
   ]
  },
  {
   "cell_type": "code",
   "execution_count": null,
   "metadata": {},
   "outputs": [],
   "source": [
    "# List의 '+'는 더하는게 아니라 쌓는다.\n",
    "a = [1, 2, 3]\n",
    "b = [4, 5, 6]\n",
    "print(a + b)\n",
    "print(a * 3)\n",
    "print(a * (12/4)) # Python에서 나누기는 실수로 나눈다."
   ]
  },
  {
   "cell_type": "code",
   "execution_count": null,
   "metadata": {},
   "outputs": [],
   "source": [
    "# append(), List의 '+'로 쌓기 가능\n",
    "a = []\n",
    "a.append(1)\n",
    "a += [2, 3]\n",
    "a += [\"Hello\"]\n",
    "print(a)\n",
    "\n",
    "# 문자열 자체를 더하면 List에 쪼개져서 쌓아짐.\n",
    "a += \"Hello\"\n",
    "print(a)\n",
    "\n",
    "# 숫자 자체를 더하면 오류 발생\n",
    "a += 3\n",
    "print(a)"
   ]
  },
  {
   "cell_type": "code",
   "execution_count": null,
   "metadata": {},
   "outputs": [],
   "source": [
    "# append() : List 자체를 추가\n",
    "a = [1, 2, 3]\n",
    "a.append([4, 5]) # a += [[4, 5]]\n",
    "a.append(\"Hello\")\n",
    "print(a)\n",
    "\n",
    "# extend() : List의 요소를 추가\n",
    "b = [1, 2, 3]\n",
    "b.extend([4, 5]) # b += [4, 5]\n",
    "b.extend(\"Hello\")\n",
    "print(b)\n",
    "\n",
    "# List 자체를 insert\n",
    "c = [1, 2, 3]\n",
    "c.insert(2, [10, 20])\n",
    "print(c)\n",
    "\n",
    "# List의 요소를 insert\n",
    "d = [1, 2, 3]\n",
    "d[2:2] = [10, 20]\n",
    "print(d)"
   ]
  },
  {
   "cell_type": "code",
   "execution_count": null,
   "metadata": {},
   "outputs": [],
   "source": [
    "# pop()\n",
    "print(\"pop()\")\n",
    "a = [1, 2, 3, 4, 5]\n",
    "val = a.pop()\n",
    "print(f'val : {val}')\n",
    "print(f'a : {a}', end=\"\\n\\n\")\n",
    "\n",
    "a = [1, 2, 3]\n",
    "a.pop(2)\n",
    "print(a, end=\"\\n\\n\")\n",
    "\n",
    "# remove()\n",
    "print(\"remove()\")\n",
    "a = [1, 2, 3, 4, 5, 3, 2, 3]\n",
    "a.remove(3) # 처음의 3만 삭제\n",
    "print(a, end=\"\\n\\n\")\n",
    "\n",
    "# index()\n",
    "print(\"index()\")\n",
    "a = [1, 2, 3, 4, 5]\n",
    "print(a.index(3), end=\"\\n\\n\") # 첫번 째 3의 index를 반환\n",
    "\n",
    "# count()\n",
    "print(\"count()\")\n",
    "a = [1, 2, 3, 4, 5, 3, 2, 3]\n",
    "print(a.count(3), end=\"\\n\\n\") # 3의 개수를 반환\n",
    "\n",
    "# reverse()\n",
    "print(\"reverse()\")\n",
    "a = [1, 2, 3, 4, 5]\n",
    "a.reverse()\n",
    "print(a)\n",
    "print(list(reversed(a)), end=\"\\n\\n\") # reversed() 자체는 List를 반환하지 않음.\n",
    "\n",
    "# sort()\n",
    "print(\"sort()\")\n",
    "a = [1, 5, 3, 4, 2]\n",
    "b = [1, 5, 3, 4, 2]\n",
    "c = [\"a\", \"c\", \"b\"]\n",
    "a.sort() # 오름차순\n",
    "b.sort(reverse=True) # 내림차순\n",
    "c.sort()\n",
    "print(a)\n",
    "print(sorted(a)) # sorted() 자체는 List를 반환\n",
    "print(b)\n",
    "print(c, end=\"\\n\\n\")\n",
    "\n",
    "# clear()\n",
    "print(\"clear()\")\n",
    "a = [1, 2, 3, 4, 5]\n",
    "a.clear()\n",
    "print(a, end=\"\\n\\n\")\n",
    "\n",
    "# min(), max(), sum()\n",
    "print(\"min(), max(), sum()\")\n",
    "a = [1, 2, 3, 4, 5]\n",
    "print(min(a))\n",
    "print(max(a))\n",
    "print(sum(a), end=\"\\n\\n\")"
   ]
  },
  {
   "cell_type": "markdown",
   "metadata": {},
   "source": [
    "# List Comprehension (List 표현식)"
   ]
  },
  {
   "cell_type": "code",
   "execution_count": null,
   "metadata": {},
   "outputs": [],
   "source": [
    "a = [i+5 for i in range(5)]\n",
    "print(a)\n",
    "\n",
    "b = [i-j for i in range(1, 5) for j in range(3, 5)]\n",
    "print(b)\n",
    "\n",
    "c = [i for i in range(10) if i % 2 == 0]\n",
    "print(c)"
   ]
  },
  {
   "cell_type": "code",
   "execution_count": null,
   "metadata": {},
   "outputs": [],
   "source": [
    "# 올바른 초기화 방법\n",
    "a = [[0 for _ in range(2)] for _ in range(3)]\n",
    "a[0][1] = 10\n",
    "print(a)\n",
    "\n",
    "# 잘못된 초기화 방법\n",
    "a = [[0 for _ in range(2)]]*3\n",
    "a[0][1] = 10\n",
    "print(a)\n",
    "\n",
    "# 활용\n",
    "a = [3, 1, 3, 2]\n",
    "b = [[0]*i for i in a]\n",
    "b[0][0] = 10\n",
    "print(b)"
   ]
  },
  {
   "cell_type": "code",
   "execution_count": null,
   "metadata": {},
   "outputs": [],
   "source": [
    "# List Comprehension 활용\n",
    "def solution(names, yearning, photos):\n",
    "    print(yearning[names.index(name)] for name in photos if name in names)\n",
    "    print(list(yearning[names.index(name)] for name in photos if name in names))\n",
    "    print([yearning[names.index(name)] for name in photos if name in names])\n",
    "    \n",
    "    return sum(yearning[names.index(name)] for name in photos if name in names)\n",
    "\n",
    "names = ['psw', 'phw']\n",
    "yearning = [3, 8]\n",
    "photos = ['psw']\n",
    "\n",
    "print(solution(names, yearning, photos))"
   ]
  },
  {
   "cell_type": "markdown",
   "metadata": {},
   "source": [
    "# Range"
   ]
  },
  {
   "cell_type": "code",
   "execution_count": null,
   "metadata": {},
   "outputs": [],
   "source": [
    "# range()\n",
    "print(range(10))\n",
    "print(list(range(10)))\n",
    "print(list(range(2, 5)))\n",
    "print(list(range(2, 10, 2)))\n",
    "print(list(range(10, 6, -1)))"
   ]
  },
  {
   "cell_type": "code",
   "execution_count": null,
   "metadata": {},
   "outputs": [],
   "source": [
    "# reversed()를 사용하여 역순으로 출력 가능\n",
    "a = range(1, 11)\n",
    "print(list(a))\n",
    "print(list(reversed(a)))"
   ]
  },
  {
   "cell_type": "markdown",
   "metadata": {},
   "source": [
    "# Tuple & String\n",
    "String은 Immutable 객체, 변경 불가능 하기 때문에 Method(메소드)를 사용하는 경우, 새로운 객체를 생성하여 해당 객체에 재할당"
   ]
  },
  {
   "cell_type": "code",
   "execution_count": null,
   "metadata": {},
   "outputs": [],
   "source": [
    "a = \"String_1\"\n",
    "b = \"String_2\"\n",
    "\n",
    "print(a+b)\n",
    "print(a*3)"
   ]
  },
  {
   "cell_type": "code",
   "execution_count": null,
   "metadata": {},
   "outputs": [],
   "source": [
    "# Tuple과 String은 Immutable 객체 (변경 불가능)\n",
    "a = (1, 2, 3)\n",
    "a[0] = 1\n",
    "\n",
    "string_1 = \"Hello\"\n",
    "string_1[2] = 2\n",
    "\n",
    "my_string = \"hello\"\n",
    "my_string = my_string[2:] # 새로운 객체를 재할당 (가능)\n",
    "\n",
    "print(my_string)"
   ]
  },
  {
   "cell_type": "code",
   "execution_count": null,
   "metadata": {},
   "outputs": [],
   "source": [
    "# strip(), lstrip(), rstrip()\n",
    "print(\"strip(), lstrip(), rstrip()\")\n",
    "str = '...나도..고등학교...'\n",
    "str_lstrip = str.lstrip('.')\n",
    "str_rstrip = str.rstrip('.')\n",
    "str_strip = str.strip('.')\n",
    "print(str_lstrip)\n",
    "print(str_rstrip)\n",
    "print(str_strip, end=\"\\n\\n\")\n",
    "\n",
    "# replace()\n",
    "print(\"replace()\")\n",
    "str_1 = '나도 고등학교, 나도 고등학교, 나도 고등학교'\n",
    "str_2 = str_1.replace('고등학교', '대학교')\n",
    "print(str_2)\n",
    "str_3 = str_1.replace('고등학교', '대학교', 2) # 2개만 변경\n",
    "print(str_3, end=\"\\n\\n\")\n",
    "\n",
    "a = \"hello\"\n",
    "a.replace(\"h\", \"H\")"
   ]
  },
  {
   "cell_type": "code",
   "execution_count": null,
   "metadata": {},
   "outputs": [],
   "source": [
    "# split()\n",
    "text = \"Hello world, this is a test.\"\n",
    "words = text.split() # Default : 연속된 공백 기준으로 나눔.\n",
    "print(words)\n",
    "\n",
    "text = \"apple, banana, cherry, dates\"\n",
    "fruits = text.split(', ')\n",
    "print(fruits)\n",
    "\n",
    "text = \"one, two, three, four, five\"\n",
    "parts = text.split(', ', 3) # 2개까지만 나눔.\n",
    "print(parts)"
   ]
  },
  {
   "cell_type": "code",
   "execution_count": null,
   "metadata": {},
   "outputs": [],
   "source": [
    "# join()\n",
    "words = [\"Hello\", \"world.\", \"This\", \"is\", \"Python\"]\n",
    "sentence = \" \".join(words) # 공백을 기준으로 합침.\n",
    "print(sentence)\n",
    "\n",
    "fruits = [\"apple\", \"banana\", \"cherry\", \"date\"]\n",
    "result = \", \".join(fruits)\n",
    "print(result)\n",
    "\n",
    "characters = ['H', 'e', 'l', 'l', 'o']\n",
    "result = \"\".join(characters)\n",
    "print(result)\n",
    "\n",
    "items = [\"item1\", 2, \"item3\"]\n",
    "# result = \" \".join(items)  # TypeError 발생, join()은 문자열만 가능\n",
    "result = \", \".join(map(str, items))\n",
    "print(result)  # \"item1, 2, item3\""
   ]
  },
  {
   "cell_type": "code",
   "execution_count": null,
   "metadata": {},
   "outputs": [],
   "source": [
    "# isalpha()\n",
    "print(\"isalpha()\")\n",
    "print(\"hello\".isalpha())\n",
    "print(\"hello123\".isalpha(), end=\"\\n\\n\")\n",
    "\n",
    "# isdigit()\n",
    "print(\"isdigit()\")\n",
    "print(\"123\".isdigit())\n",
    "print(\"123abc\".isdigit(), end=\"\\n\\n\")\n",
    "\n",
    "# isalnum()\n",
    "print(\"isalnum()\")\n",
    "print(\"hello123\".isalnum())\n",
    "print(\"hello 123\".isalnum(), end=\"\\n\\n\")\n",
    "\n",
    "# isspace()\n",
    "print(\"isspace()\")\n",
    "print(\" \".isspace())\n",
    "print(\"\".isspace(), end=\"\\n\\n\")\n",
    "\n",
    "#istitle()\n",
    "print(\"istitle()\")\n",
    "print(\"Hello World\".istitle())\n",
    "print(\"hello world\".istitle(), end=\"\\n\\n\")\n",
    "\n",
    "# islower() & isupper()\n",
    "print(\"islower() & isupper()\")\n",
    "print(\"hello\".islower())\n",
    "print(\"HELLO\".isupper(), end=\"\\n\\n\")"
   ]
  },
  {
   "cell_type": "code",
   "execution_count": null,
   "metadata": {},
   "outputs": [],
   "source": [
    "# eval()\n",
    "result = eval(\"(3+5)*7\")\n",
    "print(type(result))\n",
    "print(result)"
   ]
  },
  {
   "cell_type": "code",
   "execution_count": null,
   "metadata": {},
   "outputs": [],
   "source": [
    "# in\n",
    "my_string = '135'\n",
    "a = ['3' in my_string, '2' in my_string]\n",
    "print(a)"
   ]
  },
  {
   "cell_type": "markdown",
   "metadata": {},
   "source": [
    "# Indexing & Slicing"
   ]
  },
  {
   "cell_type": "code",
   "execution_count": null,
   "metadata": {},
   "outputs": [],
   "source": [
    "# Indexing\n",
    "a = [1, 2, 3, 4, 5]\n",
    "print(a)\n",
    "\n",
    "del a[1]\n",
    "print(a[-1])"
   ]
  },
  {
   "cell_type": "code",
   "execution_count": null,
   "metadata": {},
   "outputs": [],
   "source": [
    "# range 객체로 Indexing 가능\n",
    "a = range(1, 8, 2)\n",
    "print(a[0], a[1], a[2])"
   ]
  },
  {
   "cell_type": "code",
   "execution_count": null,
   "metadata": {},
   "outputs": [],
   "source": [
    "# Slicing\n",
    "a = list(range(11))\n",
    "b = a[0:3]\n",
    "c = a[4:]\n",
    "d = a[:5]\n",
    "e = a[:]\n",
    "f = a[::-1]\n",
    "g = a[4:-1]\n",
    "h = a[1:7:2]\n",
    "i = a[6:2:-1]\n",
    "print(f'a = {a}')\n",
    "print(f'b = {b}')\n",
    "print(f'c = {c}')\n",
    "print(f'd = {d}')\n",
    "print(f'e = {e}')\n",
    "print(f'f = {f}')\n",
    "print(f'g = {g}')\n",
    "print(f'h = {h}')\n",
    "print(f'i = {i}')\n",
    "\n",
    "# del도 Slicing 가능\n",
    "del a[2:6:3]\n",
    "print(a)"
   ]
  },
  {
   "cell_type": "markdown",
   "metadata": {},
   "source": [
    "# Dictionary"
   ]
  },
  {
   "cell_type": "code",
   "execution_count": null,
   "metadata": {},
   "outputs": [],
   "source": [
    "# dict()로 초기화 가능\n",
    "my_sample_dict = dict()\n",
    "my_sample_dict['First Fruit'] = \"Apple\"\n",
    "print(my_sample_dict)\n",
    "\n",
    "# 숫자, String 무엇이든 Key: Value로 사용 가능\n",
    "my_dict = {'name': 'Kim',\n",
    "           'age': 33,\n",
    "           200: 'Good'}\n",
    "\n",
    "print(my_dict)\n",
    "print(my_dict['name'])\n",
    "print(my_dict[200])\n",
    "\n",
    "print(f'len of my_dict is {len(my_dict)}') # len()은 Key의 개수를 반환\n",
    "print('age' in my_dict) # Dictionary의 in은 \"Key\"의 존재 여부를 반환\n",
    "\n",
    "print(my_dict.keys())\n",
    "print(list(my_dict.keys()))\n",
    "print(my_dict.values())\n",
    "print(list(my_dict.values()))\n",
    "print(my_dict.items())\n",
    "print(list(my_dict.items()))"
   ]
  },
  {
   "cell_type": "code",
   "execution_count": null,
   "metadata": {},
   "outputs": [],
   "source": [
    "my_dict = {'name': 'Kim',\n",
    "           'age': 33,\n",
    "           200: 'Good'}\n",
    "\n",
    "print(my_dict['name'])\n",
    "my_dict['name'] = 'Lee'\n",
    "print(my_dict['name'])\n",
    "my_dict['gender'] = \"female\"\n",
    "print(my_dict)"
   ]
  },
  {
   "cell_type": "code",
   "execution_count": null,
   "metadata": {},
   "outputs": [],
   "source": [
    "# zip() : 두 개의 List를 Key, Value로 묶어줌.\n",
    "a = zip(['a', 'b'], [1, 2])\n",
    "print(a)\n",
    "print(dict(a)) # iterate\n",
    "print(list(a)) # zip 객체는 한 번 사용(iterate)하면 사라짐.\n",
    "\n",
    "b = list(zip(['a', 'b'], [1, 2]))\n",
    "print(dict(b))\n",
    "print(b) # list(zip())은 계속 사용 가능"
   ]
  },
  {
   "cell_type": "markdown",
   "metadata": {},
   "source": [
    "# Set"
   ]
  },
  {
   "cell_type": "code",
   "execution_count": null,
   "metadata": {},
   "outputs": [],
   "source": [
    "# Set은 중복을 허용하지 않고, 순서가 없다.\n",
    "s1 = set([1, 2, 3])\n",
    "s2 = {1, 2, 3}\n",
    "print(s1)\n",
    "\n",
    "l1 = [3, 2, 3, 1, 1]\n",
    "s3 = list(set(l1))\n",
    "print(s3)\n",
    "\n",
    "s4 = set(\"Hello\")\n",
    "print(s4)"
   ]
  },
  {
   "cell_type": "code",
   "execution_count": null,
   "metadata": {},
   "outputs": [],
   "source": [
    "s1 = {1, 2, 3, 4, 5, 6}\n",
    "s2 = {4, 5, 6, 7, 8, 9}\n",
    "print(s1 & s2) # Intersection(교집합)\n",
    "print(s1.intersection(s2)) # Intersection(교집합)\n",
    "\n",
    "print(s1 | s2) # Union(합집합)\n",
    "print(s1.union(s2)) # Union(합집합)\n",
    "\n",
    "print(s1 - s2) # Difference(차집합)\n",
    "print(s1.difference(s2)) # Difference(차집합)"
   ]
  },
  {
   "cell_type": "code",
   "execution_count": null,
   "metadata": {},
   "outputs": [],
   "source": [
    "# Tuple은 Immutable 객체\n",
    "s1 = {1, 2, 3}\n",
    "s1.add(4)\n",
    "print(s1)\n",
    "\n",
    "s2 = {1, 2, 3}\n",
    "s2.update([4, 5, 6])\n",
    "print(s2)\n",
    "\n",
    "s3 = {1, 2, 3}\n",
    "s3.remove(2)\n",
    "print(s3)"
   ]
  },
  {
   "cell_type": "markdown",
   "metadata": {},
   "source": [
    "# if(조건)문"
   ]
  },
  {
   "cell_type": "code",
   "execution_count": null,
   "metadata": {},
   "outputs": [],
   "source": [
    "if 1:\n",
    "    print(\"1\")\n",
    "    \n",
    "if -1:\n",
    "    print(\"-1\")\n",
    "    \n",
    "if 0:\n",
    "    print(\"0\")\n",
    "    \n",
    "if \"H\":\n",
    "    print(\"H\")\n",
    "    \n",
    "if \"\":\n",
    "    print(\"\")\n",
    "    \n",
    "if [1, 2]:\n",
    "    print(\"[1, 2]\")\n",
    "    \n",
    "if []:\n",
    "    print(\"[]\")"
   ]
  },
  {
   "cell_type": "code",
   "execution_count": null,
   "metadata": {},
   "outputs": [],
   "source": [
    "# 부등호 연속 사용 가능\n",
    "x = 5\n",
    "if 0 < x < 10:\n",
    "    print(\"0 < x < 10\")"
   ]
  },
  {
   "cell_type": "code",
   "execution_count": null,
   "metadata": {},
   "outputs": [],
   "source": [
    "# 삼항 연산자\n",
    "x = int(input())\n",
    "y = int(input())\n",
    "\n",
    "if x > 0:\n",
    "    print(1 if y>0 else 4) # print()에서 3항 연산자 사용 가능, 하지만 else 필수\n",
    "else:\n",
    "    print(2 if y>0 else 3) # print()에서 3항 연산자 사용 가능, 하지만 else 필수\n",
    "    \n",
    "a = 5\n",
    "b = 3 if a>3 else 2\n",
    "print(a, b)"
   ]
  },
  {
   "cell_type": "code",
   "execution_count": null,
   "metadata": {},
   "outputs": [],
   "source": [
    "# elif를 3항 연산자에서 else, if로 사용 가능\n",
    "def func(x):\n",
    "    if x == 1:\n",
    "        return 2*x\n",
    "    elif x == 2:\n",
    "        return 3*x\n",
    "    else:\n",
    "        return x\n",
    "\n",
    "print(list(map(func, [1, 2, 3, 4, 5])))\n",
    "print(list(map(lambda x: 2*x if x == 1 else (3*x if x == 2 else x), [1, 2, 3, 4, 5])))"
   ]
  },
  {
   "cell_type": "markdown",
   "metadata": {},
   "source": [
    "# for(반복)문 & break & continue & enumerate"
   ]
  },
  {
   "cell_type": "code",
   "execution_count": null,
   "metadata": {},
   "outputs": [],
   "source": [
    "# 반복 가능한 객체는 for문 사용 가능\n",
    "a = [1, \"Hello\", 3, \"Hi\"]\n",
    "for i in a:\n",
    "    print(i, end=\" \")\n",
    "\n",
    "print()\n",
    "\n",
    "for i in reversed(range(10)):\n",
    "    print(i, end=\" \")\n",
    "    \n",
    "print()\n",
    "\n",
    "for i in \"Hello\":\n",
    "    print(i, end=\" \")\n",
    "    \n",
    "print()\n",
    "\n",
    "dict_a = {1: \"Hello\", 2: \"World\"}\n",
    "for a, b in zip([1, 2], [\"Hello\", \"World\"]):\n",
    "# for a, b in dict_a.items():\n",
    "# for a, b in zip(dict_a.keys(), dict_a.values()):\n",
    "    print(a, b)"
   ]
  },
  {
   "cell_type": "code",
   "execution_count": null,
   "metadata": {},
   "outputs": [],
   "source": [
    "# break\n",
    "i = 0\n",
    "while i < 5:\n",
    "    print(i, end=\" \")\n",
    "    i += 1\n",
    "\n",
    "print()\n",
    "    \n",
    "i = 0\n",
    "while 1:\n",
    "    print(i, end=\" \")\n",
    "    i += 1\n",
    "    \n",
    "    if i == 10:\n",
    "        break"
   ]
  },
  {
   "cell_type": "code",
   "execution_count": null,
   "metadata": {},
   "outputs": [],
   "source": [
    "# Debugging용으로 break 사용 가능\n",
    "EPOCH = 10\n",
    "for i in range(EPOCH):\n",
    "    '''\n",
    "    To-Do 1\n",
    "    '''\n",
    "    \n",
    "    break # break를 뒤로 미뤄가면서 Debugging 가능\n",
    "    \n",
    "    '''\n",
    "    To-Do 2\n",
    "    '''"
   ]
  },
  {
   "cell_type": "code",
   "execution_count": null,
   "metadata": {},
   "outputs": [],
   "source": [
    "# continue\n",
    "for i in range(10):\n",
    "    if i % 2 == 0:\n",
    "        continue\n",
    "    \n",
    "    print(i, end=\" \")"
   ]
  },
  {
   "cell_type": "code",
   "execution_count": null,
   "metadata": {},
   "outputs": [],
   "source": [
    "# enumerate()\n",
    "a = [2, 4, 6, 8, 10]\n",
    "\n",
    "for index, value in enumerate(a, start=1):\n",
    "    print(f'index: {index}, value: {value}')"
   ]
  },
  {
   "cell_type": "markdown",
   "metadata": {},
   "source": [
    "# 사용자 입출력 및 File 입출력"
   ]
  },
  {
   "cell_type": "code",
   "execution_count": null,
   "metadata": {},
   "outputs": [],
   "source": [
    "# input()은 String으로 받음\n",
    "a = input()\n",
    "print(a)\n",
    "print(type(a))\n",
    "\n",
    "b = int(input())\n",
    "print(b)\n",
    "print(type(b))"
   ]
  },
  {
   "cell_type": "code",
   "execution_count": null,
   "metadata": {},
   "outputs": [],
   "source": [
    "import os\n",
    "\n",
    "folder_name = \"saved\"\n",
    "\n",
    "if not os.path.exists(folder_name):\n",
    "    os.makedirs(folder_name)\n",
    "    \n",
    "with open(f'{folder_name}/test.txt', 'w', encoding='utf8') as f: # 'w' : txt File을 새로 만들고 Write\n",
    "    f.write(\"Hello World! 1\\n\")\n",
    "    f.write(\"Hello World! 2\\n\")\n",
    "    f.write(\"Hello World! 3\\n\")\n",
    "\n",
    "with open(f'{folder_name}/test.txt', 'a', encoding='utf8') as f: # 'a' : 기존의 txt File을 열어서 Append\n",
    "    f.write(\"Hello World! 4\\n\")\n",
    "    f.write(\"Hello World! 5\\n\")\n",
    "    f.write(\"Hello World! 6\\n\")\n",
    "\n",
    "with open(f'{folder_name}/test.txt', encoding='utf8') as f: # 'r' : txt File을 읽음. (Default 값)\n",
    "    s_1 = f.read(5) # read(5) : 5 Byte만 읽음.\n",
    "    s_2 = f.read() # read() : 모든 내용을 읽음.\n",
    "print(s_1)\n",
    "print(s_2)\n",
    "\n",
    "with open(f'{folder_name}/test.txt', encoding='utf8') as f:\n",
    "    for i in range(6):\n",
    "        s = f.readline().rstrip() # readline() : 한 줄씩 읽음, rstrip() : '\\n' 제거\n",
    "        print(s)\n",
    "\n",
    "print()\n",
    "\n",
    "with open(f'{folder_name}/test.txt', encoding='utf8') as f:\n",
    "    for line in f:\n",
    "        print(line.rstrip())\n",
    "        \n",
    "print()\n",
    "\n",
    "with open(f'{folder_name}/test.txt', encoding='utf8') as f:\n",
    "    s = f.readlines() # readlines() : 모든 줄을 읽어서 List로 반환\n",
    "print(s)"
   ]
  },
  {
   "cell_type": "code",
   "execution_count": null,
   "metadata": {},
   "outputs": [],
   "source": [
    "with open(f'{folder_name}/test.txt', encoding='utf8') as f:\n",
    "    for line in f:\n",
    "        print(line.rstrip())"
   ]
  },
  {
   "cell_type": "markdown",
   "metadata": {},
   "source": [
    "# Terminal 입력 받기 (argparse)"
   ]
  },
  {
   "cell_type": "code",
   "execution_count": null,
   "metadata": {},
   "outputs": [],
   "source": [
    "# 다음 예시는 Jupyter Notebook이 아닌 Python Script에서 실행해야 함.\n",
    "# argv_example.py에 다음 Code 작성\n",
    "# Terminal에 \"python argv_example.py aaa bbb\" 입력\n",
    "\n",
    "# sys.argv\n",
    "import sys\n",
    "\n",
    "print(sys.argv) # List로 출력, ['python' 'argv_example.py', 'aaa', 'bbb']\n",
    "print(sys.argv[0]) # 'python'\n",
    "print(sys.argv[1]) # 'argv_example.py'\n",
    "print(sys.argv[2]) # 'aaa'\n",
    "print(sys.argv[2]) # 'bbb'"
   ]
  },
  {
   "cell_type": "code",
   "execution_count": null,
   "metadata": {},
   "outputs": [],
   "source": [
    "# 다음 예시는 Jupyter Notebook이 아닌 Python Script에서 실행해야 함.\n",
    "# memo.py에 다음 Code 작성\n",
    "# Terminal에 \"python memo.py -a 'Life is too short'\" 입력\n",
    "\n",
    "# sys.argv\n",
    "import sys\n",
    "\n",
    "option = sys.argv[1]\n",
    "\n",
    "if option == '-a':\n",
    "    memo = sys.argv[2]\n",
    "    f = open('memo.txt', 'a')\n",
    "    f.write(memo)\n",
    "    f.write('\\n')\n",
    "    f.close()"
   ]
  },
  {
   "cell_type": "code",
   "execution_count": null,
   "metadata": {},
   "outputs": [],
   "source": [
    "# 다음 예시는 Jupyter Notebook이 아닌 Python Script에서 실행해야 함.\n",
    "# argparse_example.py에 다음 Code 작성\n",
    "# Terminal에 \"python argparse_example.py --age 25 --height 1.65 --name \"Jane Doe\" --verbose --int_tags 1 2 3 --str_tags tag1 tag2 tag3\" 입력\n",
    "\n",
    "# argparse (sys.argv에 비해 더 유연하게 사용 가능)\n",
    "import argparse\n",
    "\n",
    "# ArgumentParser 객체 생성\n",
    "parser = argparse.ArgumentParser(description=\"Example script with various argument types\")\n",
    "\n",
    "# Command Line Argument 추가\n",
    "parser.add_argument('--age', type=int, help='An integer argument') # Integer\n",
    "parser.add_argument('--height', type=float, help='A float argument') # Float\n",
    "parser.add_argument('--name', type=str, help='A string argument') # String\n",
    "parser.add_argument('--verbose', action='store_true', help='Enable verbose output') # --verbose : True, --verbose 입력 x : False\n",
    "parser.add_argument('--int_tags', type=int, nargs='*', help='A list of integer tags') # List of Integer\n",
    "parser.add_argument('--str_tags', type=str, nargs='*', help='A list of string tags') # List of String\n",
    "\n",
    "# Command Line Argument Parsing\n",
    "my_args = parser.parse_args()\n",
    "\n",
    "print(\"Integer argument :\", my_args.age)\n",
    "print(\"Float argument :\", my_args.height)\n",
    "print(\"String argument :\", my_args.name)\n",
    "print(\"Boolean flag :\", my_args.verbose)\n",
    "print(\"List of int tags :\", my_args.int_tags)\n",
    "print(\"List of str tags :\", my_args.str_tags)"
   ]
  },
  {
   "cell_type": "markdown",
   "metadata": {},
   "source": [
    "# Function (함수)"
   ]
  },
  {
   "cell_type": "code",
   "execution_count": null,
   "metadata": {},
   "outputs": [],
   "source": [
    "# Call by Reference (Mutable) (List, Dictionary...)\n",
    "def f(x):\n",
    "    x[0] = 5\n",
    "    \n",
    "a = [1, 2, 3]\n",
    "f(a)\n",
    "print(a)\n",
    "\n",
    "# Call by Value (Immutable) (Number, String, Tuple...)\n",
    "def y(x):\n",
    "    x = 5\n",
    "\n",
    "a = 3\n",
    "y(a)\n",
    "print(a)"
   ]
  },
  {
   "cell_type": "code",
   "execution_count": null,
   "metadata": {},
   "outputs": [],
   "source": [
    "def introduce(name, age=\"비밀\", address=\"비밀\"): # Default 값은 뒤에서부터 채워야 함.\n",
    "    print(f'이름: {name}, 나이: {age}, 주소: {address}')\n",
    "\n",
    "introduce(\"Kim\", \"Hello\") # 인자가 순서대로 들어감."
   ]
  },
  {
   "cell_type": "code",
   "execution_count": null,
   "metadata": {},
   "outputs": [],
   "source": [
    "def introduce(name, age=\"비밀\", address=\"비밀\"): # Default 값은 뒤에서부터 채워야 함.\n",
    "    print(f'이름: {name}, 나이: {age}, 주소: {address}')\n",
    "    \n",
    "my_dict = {\n",
    "    'name': \"Kim\",\n",
    "    'age': 33,\n",
    "    'address': \"Seoul\"\n",
    "    }\n",
    "\n",
    "print(*my_dict) # Key 값만 출력\n",
    "introduce(*my_dict) # introduce(name, age, address)로 들어감.\n",
    "\n",
    "print(dict(my_dict))\n",
    "print({**my_dict})\n",
    "introduce(**my_dict) # introduce(name=\"Kim\", age=33, address=\"Seoul\")로 들어감."
   ]
  },
  {
   "cell_type": "code",
   "execution_count": null,
   "metadata": {},
   "outputs": [],
   "source": [
    "# *args : arguments(가변 인자)\n",
    "x = (10, 20)\n",
    "print(x)\n",
    "print(*x) # Unpacking\n",
    "\n",
    "numbers = (1, 2, 3, 4, 5)\n",
    "one, two, *others = numbers # others : Unpacking한 기준으로 값들을 받아\n",
    "print(others) # Packing\n",
    "\n",
    "def my_func(*args): # Unpacking한 기준으로 값들을 받아\n",
    "    print(f\"args에는 {args}가 들어있습니다.\") # Packing\n",
    "    for arg in args:\n",
    "        print(arg)\n",
    "\n",
    "my_func(1)\n",
    "my_func(1, 2, 3)\n",
    "\n",
    "def visit(today, *customers):\n",
    "    print(today)\n",
    "    for customer in customers:\n",
    "        print(customer)\n",
    "\n",
    "visit('2023년 1월 1일', '장발장', '이남수')"
   ]
  },
  {
   "cell_type": "code",
   "execution_count": null,
   "metadata": {},
   "outputs": [],
   "source": [
    "# **kwargs : keyword arguments(가변 키워드 인자)\n",
    "my_dict = {\n",
    "    'name': \"Kim\",\n",
    "    'age': 33,\n",
    "    'address': \"Seoul\"\n",
    "    }\n",
    "print(my_dict)\n",
    "print(*my_dict)\n",
    "\n",
    "def my_func(**kwargs): # 2번 Unpacking한 기준으로 값들을 받아\n",
    "    print(f\"kwargs에는 {kwargs}가 들어있습니다.\") # 2번 Packing\n",
    "    for key, value in kwargs.items():\n",
    "        print(f'{key}: {value}')\n",
    "        \n",
    "my_func(name=\"Kim\", age=33, address=\"Seoul\")\n",
    "my_func(**my_dict)\n",
    "\n",
    "def f(**kwargs):\n",
    "    print(kwargs[\"a\"])\n",
    "    if \"b\" in kwargs:\n",
    "        print(kwargs[\"b\"])\n",
    "\n",
    "f(a=1, b=2)\n",
    "f(a=1)\n",
    "\n",
    "class MyModel(nn.Module):\n",
    "    def __init__(self, **kwargs):\n",
    "        super(MyModel, self).__init__()\n",
    "        # 'input_dim' 키가 kwargs에 없으면 기본값 10 사용\n",
    "        self.fc = nn.Linear(kwargs.get('input_dim', 10), kwargs.get('output_dim', 2)) # get() : Key가 없으면 None 반환, Default 값 지정 가능\n",
    "\n",
    "    def forward(self, x):\n",
    "        return self.fc(x)\n",
    "\n",
    "# 'input_dim'과 'output_dim'을 명시적으로 제공\n",
    "model_with_args = MyModel(input_dim=20, output_dim=5)\n",
    "print(model_with_args.fc)  # Linear(in_features=20, out_features=5, bias=True)\n",
    "\n",
    "# 'input_dim'과 'output_dim'을 제공하지 않음\n",
    "model_without_args = MyModel()\n",
    "print(model_without_args.fc)  # Linear(in_features=10, out_features=2, bias=True)"
   ]
  },
  {
   "cell_type": "code",
   "execution_count": null,
   "metadata": {},
   "outputs": [],
   "source": [
    "# *args와 **kwargs를 동시에 사용 가능\n",
    "def introduce(*args, **kwargs):\n",
    "    print(args)\n",
    "    print(kwargs)\n",
    "    \n",
    "introduce(1, 2, 3, name=\"Kim\", age=33, address=\"Seoul\")"
   ]
  },
  {
   "cell_type": "code",
   "execution_count": null,
   "metadata": {},
   "outputs": [],
   "source": [
    "# round()\n",
    "print(\"round()\")\n",
    "a = 3.141592\n",
    "b = 123.456\n",
    "c = 1234.56789\n",
    "print(round(a, 2)) # 소수점 2자리까지 반올림\n",
    "print(round(b, 0)) # 정수로 반올림\n",
    "print(round(c, -1), end=\"\\n\\n\") # 10의 자리까지 반올림\n",
    "\n",
    "print(round(12343.125, 2)) # round()에서는 반올림할 때, 5는 내림 처리 (사실 12343.124988877이기 때문), NumPy에서는 올림 처리"
   ]
  },
  {
   "cell_type": "code",
   "execution_count": null,
   "metadata": {},
   "outputs": [],
   "source": [
    "# eval()\n",
    "result = eval(\"(3+5)*7\")\n",
    "print(type(result))\n",
    "print(result)"
   ]
  },
  {
   "cell_type": "code",
   "execution_count": null,
   "metadata": {},
   "outputs": [],
   "source": [
    "# copy() & copy.deepcopy()\n",
    "a = [1, 2, 3]\n",
    "b = a # 주소 복사\n",
    "c = a.copy() # copy() : 새로운 객체 생성\n",
    "a[1] = 10\n",
    "print(f'a = {a}, b = {b}, c = {c}')\n",
    "\n",
    "a = [[1, 2], [3, 4]]\n",
    "b = a.copy()\n",
    "b[0][1] = 10\n",
    "print(a, b)\n",
    "\n",
    "# copy.deepcopy() : 중첩된 객체까지 복사\n",
    "from copy import deepcopy\n",
    "\n",
    "a = [[1, 2], [3, 4]]\n",
    "b = deepcopy(a)\n",
    "b[0][1] = 10\n",
    "print(a, b)"
   ]
  },
  {
   "cell_type": "markdown",
   "metadata": {},
   "source": [
    "# Local & Global Variable"
   ]
  },
  {
   "cell_type": "code",
   "execution_count": null,
   "metadata": {},
   "outputs": [],
   "source": [
    "# Local & Global Variable\n",
    "EPOCH = 3\n",
    "BATCH_SIZE = 4 # Global Variable\n",
    "\n",
    "def train(weight):\n",
    "    x = 1 # Local Variable\n",
    "    \n",
    "    for i in range(EPOCH): # Global Variable은 Function(함수) 안에서도 사용 가능\n",
    "        for j in range(BATCH_SIZE): # Global Variable은 Function(함수) 안에서도 사용 가능\n",
    "            print(f\"{i}번 째 EPOCH, {j}번 째 BATCH\")\n",
    "            weight += 1\n",
    "    \n",
    "train(0)\n",
    "print(x) # Local Variable은 Function(함수) 밖에서 사용 불가능"
   ]
  },
  {
   "cell_type": "code",
   "execution_count": null,
   "metadata": {},
   "outputs": [],
   "source": [
    "# Global Variable을 Local Variable로 사용하기.\n",
    "def f():\n",
    "    global x # Global Variable을 Local Variable로 사용 가능\n",
    "    x = 20\n",
    "    print(x)\n",
    "    \n",
    "f()\n",
    "print(x)"
   ]
  },
  {
   "cell_type": "code",
   "execution_count": null,
   "metadata": {},
   "outputs": [],
   "source": [
    "x = 10\n",
    "\n",
    "def f():\n",
    "    x = 20\n",
    "    print(x)\n",
    "    \n",
    "f() # Local Variable이 우선순위\n",
    "print(x) # Global Variable"
   ]
  },
  {
   "cell_type": "code",
   "execution_count": null,
   "metadata": {},
   "outputs": [],
   "source": [
    "# Global Variable을 Function(함수) 안에서 수정\n",
    "x = 10\n",
    "\n",
    "def f():\n",
    "    global x\n",
    "    x = 20\n",
    "    print(x)\n",
    "\n",
    "f() # Global Variable이 우선순위\n",
    "print(x) # Global Variable"
   ]
  },
  {
   "cell_type": "code",
   "execution_count": null,
   "metadata": {},
   "outputs": [],
   "source": [
    "message = '나는야 전역변수'\n",
    "print(message)\n",
    "my_list = []\n",
    "print(my_list)\n",
    "\n",
    "def no_secret():    \n",
    "    global message\n",
    "    message = '바꿀 수 있을까요?' # global 선언을 해야 수정 가능 (Immutable)\n",
    "    \n",
    "    my_list.append('hello') # global 선언 없이도 수정 가능 (Mutable)\n",
    "    my_list[0] = 'impossible' # global 선언 없이도 수정 가능 (Mutable)\n",
    "    \n",
    "no_secret()\n",
    "print(message)\n",
    "print(my_list)"
   ]
  },
  {
   "cell_type": "markdown",
   "metadata": {},
   "source": [
    "# Lambda Expression (람다 표현식) & map() & filter()"
   ]
  },
  {
   "cell_type": "code",
   "execution_count": null,
   "metadata": {},
   "outputs": [],
   "source": [
    "# lambda : 함수를 한 줄로 표현\n",
    "def plus_ten(x):\n",
    "    return x+10\n",
    "\n",
    "lambda_plus_ten = lambda x: x+10\n",
    "\n",
    "print(plus_ten(10))\n",
    "print(lambda_plus_ten(10))\n",
    "print((lambda x: x+10)(10))"
   ]
  },
  {
   "cell_type": "code",
   "execution_count": null,
   "metadata": {},
   "outputs": [],
   "source": [
    "# map() : Function(함수)과 Iterable 객체를 받은 후, Iterable 객체에 Function(함수)을 적용\n",
    "def plus_ten(x):\n",
    "    return x+10\n",
    "\n",
    "print(map(plus_ten, [1, 2, 3]))\n",
    "print(list(map(plus_ten, [1, 2, 3]))) # map() : Function(함수)과 Iterable 객체를 받은 후, Iterable 객체에 Function(함수)을 적용\n",
    "print(list(map(lambda x: x+10, [1, 2, 3]))) # lambda를 사용하여 map() 사용 가능\n",
    "\n",
    "def func(x):\n",
    "    if x%2 == 0:\n",
    "        return 2*x\n",
    "    else:\n",
    "        return x\n",
    "\n",
    "print(map(func, [1, 2, 3, 4, 5]))\n",
    "print(list(map(func, [1, 2, 3, 4, 5])))\n",
    "print(list(map(lambda x: 2*x if x%2 == 0 else x, [1, 2, 3, 4, 5])))\n",
    "\n",
    "f = lambda a, b: a+b\n",
    "print(f(10, 20))\n",
    "print(list(map(f, [1, 2], [3, 4]))) # [1, 2, 3, 4]가 아님. [f(1, 3), f(2, 4)]임. (Iteration)\n",
    "\n",
    "list1 = [1, 2, 3, 4, 5]\n",
    "list2 = [6, 7, 8, 9, 10, 15, 20]\n",
    "print(list1 + list2)\n",
    "print(list(map(lambda a, b: a + b, list1, list2))) # 두 List의 길이가 다르면 짧은 List의 길이만큼만 적용"
   ]
  },
  {
   "cell_type": "code",
   "execution_count": null,
   "metadata": {},
   "outputs": [],
   "source": [
    "def add_1(a, b):\n",
    "    c = 1\n",
    "    return a+b+c\n",
    "\n",
    "print(add_1(10, 20))\n",
    "print((lambda a, b: a+b+1)(10, 20)) # add_1()처럼 lambda에서는 변수 선언 불가능"
   ]
  },
  {
   "cell_type": "code",
   "execution_count": null,
   "metadata": {},
   "outputs": [],
   "source": [
    "# lambda를 이용하여 두 개의 값을 반환\n",
    "add_mul_lambda = lambda a, b: (a + b, a * b)\n",
    "x, y = add_mul_lambda(10, 20)\n",
    "\n",
    "print(x, y)\n",
    "print((lambda a, b: (a+b, a*b))(10, 20))"
   ]
  },
  {
   "cell_type": "code",
   "execution_count": null,
   "metadata": {},
   "outputs": [],
   "source": [
    "# lambda에서 3항 연산자 사용 가능\n",
    "def func(x):\n",
    "    if x%2 == 0:\n",
    "        return 2*x\n",
    "    \n",
    "print(list(map(func, [1, 2, 3, 4, 5])))\n",
    "print(list(map(lambda x: 2*x if x%2 == 0, [1, 2, 3, 4, 5]))) # lambda에서 3항 연산자 사용 가능, 하지만 else 필수"
   ]
  },
  {
   "cell_type": "code",
   "execution_count": null,
   "metadata": {},
   "outputs": [],
   "source": [
    "# lambda 활용\n",
    "array = [('홍길동', 60), ('이순신', 32), ('아무개', 74)]\n",
    "\n",
    "def my_key(x):\n",
    "    return x[1]\n",
    "\n",
    "# key Paramaeter (.sort()에서도 사용 가능)\n",
    "print(sorted(array, key=my_key))\n",
    "print(sorted(array, key=lambda x: x[1]))"
   ]
  },
  {
   "cell_type": "code",
   "execution_count": null,
   "metadata": {},
   "outputs": [],
   "source": [
    "# filter() : Function(함수)와 Iterable 객체를 받은 후, Iterable 객체에 Function(함수)을 적용하여 True인 값만 반환\n",
    "def positive(x):\n",
    "    return x > 0\n",
    "\n",
    "a = filter(positive, [1, -3, 2, 0, -5, 6])\n",
    "print(a)\n",
    "print(list(a))\n",
    "\n",
    "b = filter(lambda x: x>0, [1, -3, 2, 0, -5, 6])\n",
    "print(b)\n",
    "print(list(b))"
   ]
  },
  {
   "cell_type": "markdown",
   "metadata": {},
   "source": [
    "# Class (클래스)"
   ]
  },
  {
   "cell_type": "code",
   "execution_count": null,
   "metadata": {},
   "outputs": [],
   "source": [
    "# Object Oriented Programming (OOP) (객체 지향 프로그래밍)\n",
    "class Robot:\n",
    "    def greeting(self): # Method(메소드) : Class 내부에 정의된 Function(함수), 첫 번째 매개변수는 무조건 self (자기 자신의 Instance)\n",
    "        print(\"Hello World!\")\n",
    "        \n",
    "bot_1 = Robot() # Robot Class의 Instance 생성\n",
    "bot_1.greeting()"
   ]
  },
  {
   "cell_type": "code",
   "execution_count": null,
   "metadata": {},
   "outputs": [],
   "source": [
    "# __init__()\n",
    "class Robot:\n",
    "    def __init__(self): # __init__ : Constructor(생성자), Instance 생성 시 자동으로 실행 \n",
    "        print(\"I'm initialized!\")\n",
    "        \n",
    "bot_1 = Robot()"
   ]
  },
  {
   "cell_type": "code",
   "execution_count": null,
   "metadata": {},
   "outputs": [],
   "source": [
    "class Robot:\n",
    "    def __init__(self): # self는 만들어진 Instance, 자기 자신을 의미, \n",
    "        self.sentence = \"Hello!\" # Attribute(속성) : 클래스 내부에 정의된 Variable(변수)\n",
    "        \n",
    "    def greeting(self):\n",
    "        print(self.sentence)\n",
    "        \n",
    "bot_1 = Robot()\n",
    "bot_1.greeting()"
   ]
  },
  {
   "cell_type": "code",
   "execution_count": null,
   "metadata": {},
   "outputs": [],
   "source": [
    "class Robot:\n",
    "    def __init__(self, height, sentence):\n",
    "        self.height = height\n",
    "        self.sentence = sentence\n",
    "        \n",
    "    def greeting(self):\n",
    "        print(self.height)\n",
    "        print(self.sentence)\n",
    "\n",
    "bot_1 = Robot(180, \"Hello!\")\n",
    "bot_1.greeting()\n",
    "\n",
    "print(bot_1.height)\n",
    "print(bot_1.sentence)\n",
    "bot_1.height += 10 # 밖에서도 Attribute(속성) 값 변경 가능\n",
    "print(bot_1.height)"
   ]
  },
  {
   "cell_type": "code",
   "execution_count": null,
   "metadata": {},
   "outputs": [],
   "source": [
    "# __ : Private Attribute(속성)\n",
    "class Robot:\n",
    "    def __init__(self, height, sentence):\n",
    "        self.__height = height # __ : Private Attribute(속성)\n",
    "        self.sentence = sentence\n",
    "        \n",
    "    def greeting(self):\n",
    "        print(self.__height) # Private Attribute(속성)은 Class 내부에서만 접근 가능\n",
    "        print(self.sentence)\n",
    "\n",
    "bot_1 = Robot(180, \"Hello!\")\n",
    "bot_1.greeting()\n",
    "print(bot_1.height) # Private Attribute(속성)은 밖에서 접근 불가능\n",
    "print(bot_1.__height) # Private Attribute(속성)은 밖에서 접근 불가능\n",
    "print(bot_1.sentence)"
   ]
  },
  {
   "cell_type": "code",
   "execution_count": null,
   "metadata": {},
   "outputs": [],
   "source": [
    "# Inheritance(상속)\n",
    "class Robot: # 부모 Class\n",
    "    def greeting(self):\n",
    "        print(\"Hello World!\")\n",
    "\n",
    "class Study_bot(Robot): # 자식 Class, Robot Class를 상속 받음. Robot Class의 Method(메소드)를 사용 가능\n",
    "    def study(self):\n",
    "        print(\"Study Now!\")\n",
    "\n",
    "bot_1 = Study_bot()\n",
    "bot_1.greeting() # Robot Class의 Method(메소드)를 사용 가능\n",
    "bot_1.study()"
   ]
  },
  {
   "cell_type": "code",
   "execution_count": null,
   "metadata": {},
   "outputs": [],
   "source": [
    "# Method Overrriding(메소드 오버라이딩)\n",
    "class Robot:\n",
    "    def greeting(self):\n",
    "        print(\"Hello World!\")\n",
    "\n",
    "class Study_bot(Robot):\n",
    "    def greeting(self): # 부모 Class의 greeting()을 물려받았으나, 다시 정의하면 덮어씀.\n",
    "        super().greeting() # super() : 부모 Class의 Method(메소드)를 사용 가능\n",
    "        print(\"Hello World! I'm Study_bot\")\n",
    "    def study(self):\n",
    "        print(\"Study Now!\")\n",
    "        \n",
    "bot_1 = Study_bot()\n",
    "bot_1.greeting()"
   ]
  },
  {
   "cell_type": "code",
   "execution_count": null,
   "metadata": {},
   "outputs": [],
   "source": [
    "# 부모 Class의 Attribute(속성)를 상속 받기. (Deep Learning에서 많이 사용)\n",
    "class Robot:\n",
    "    def __init__(self):\n",
    "        self.money = 100\n",
    "        print(\"부모 Class의 __init__ 실행\")\n",
    "        \n",
    "class Study_bot(Robot):\n",
    "    def __init__(self):\n",
    "        super().__init__() # 부모 Class의 __init__() 호출\n",
    "        self.book = 10\n",
    "        print(\"자식 Class의 __init__ 실행\")\n",
    "        \n",
    "    def func_2(self):\n",
    "        print(\"자식 Class의 func_2 실행\")\n",
    "\n",
    "bot_1 = Study_bot()\n",
    "bot_1.func_2()\n",
    "print(bot_1.book) # 자식 Class의 Attribute\n",
    "print(bot_1.money) # 부모 Class에서 상속받은 Attribute"
   ]
  },
  {
   "cell_type": "code",
   "execution_count": null,
   "metadata": {},
   "outputs": [],
   "source": [
    "class Robot:\n",
    "    def __init__(self):\n",
    "        self.money = 100\n",
    "        print(\"부모 Class의 __init__ 실행\")\n",
    "        \n",
    "class Study_bot(Robot): # 자식 Class에 __init__()이 없으면 부모 Class의 __init__()을 자동 상속 받음.\n",
    "    def func_2(self):\n",
    "        print(\"자식 Class의 func_2 실행\")\n",
    "\n",
    "bot_1 = Study_bot()\n",
    "print(bot_1.money)"
   ]
  },
  {
   "cell_type": "code",
   "execution_count": null,
   "metadata": {},
   "outputs": [],
   "source": [
    "# Multiple Inheritance(다중 상속)\n",
    "class Robot:\n",
    "    def greeting(self):\n",
    "        print(\"I'm Robot.\")\n",
    "        \n",
    "class Life:\n",
    "    def eat(self):\n",
    "        print(\"I'm eating.\")\n",
    "    \n",
    "class Study_bot(Robot, Life): # Multiple Inheritance(다중 상속)\n",
    "    def study(self):\n",
    "        print(\"Study Now!\")\n",
    "        \n",
    "bot_1 = Study_bot()\n",
    "bot_1.greeting()\n",
    "bot_1.eat()\n",
    "bot_1.study()"
   ]
  },
  {
   "cell_type": "code",
   "execution_count": null,
   "metadata": {},
   "outputs": [],
   "source": [
    "# __str()__\n",
    "class Calculate:\n",
    "    def __init__(self, a, b) :\n",
    "        self.a = a\n",
    "        self.b = b\n",
    "\n",
    "    def __str__(self) : # print() 함수 호출 시 자동 실행\n",
    "        return f'add 함수를 사용해서 {self.a}과 {self.b}을 더할 수 있습니다'\n",
    "    \n",
    "cal = Calculate(3, 7)\n",
    "print(cal) # print(cal.__str__())과 동일"
   ]
  },
  {
   "cell_type": "markdown",
   "metadata": {},
   "source": [
    "# Exception Handling (예외 처리)"
   ]
  },
  {
   "cell_type": "code",
   "execution_count": null,
   "metadata": {},
   "outputs": [],
   "source": [
    "# Exception Handling(예외 처리)\n",
    "num1 = 3\n",
    "num2 = 0\n",
    "\n",
    "try: # try 블록 수행 중 에러가 발생하면 except 블록 수행\n",
    "    result = num1 / num2\n",
    "    print(f'연산 결과는 {result}입니다.')\n",
    "except Exception as err: # 모든 예외의 에러 메시지를 출력할 때는 Exception을 사용\n",
    "    print('에러가 발생했어요. :', err)\n",
    "# except ZeroDivisionError: # 0으로 나눴을 때 발생하는 에러인 ZeroDivisionError가 발생하면 해당 블록 수행\n",
    "#     print('0으로 나눌 수 없어요.')\n",
    "else: # 예외가 발생하지 않았을 때 수행\n",
    "    print('정상 동작했어요.')\n",
    "finally: # 마지막에 반드시 수행\n",
    "    print('수행 종료')"
   ]
  },
  {
   "cell_type": "code",
   "execution_count": null,
   "metadata": {},
   "outputs": [],
   "source": [
    "# raise : 강제로 예외 발생\n",
    "class Bird:\n",
    "    def fly(self):\n",
    "        raise NotImplementedError # NotImplementedError : 자식 Class에서 해당 Method(메소드)를 구현하지 않았을 때 발생하는 에러\n",
    "    \n",
    "class Eagle(Bird):\n",
    "    pass\n",
    "    # def fly(self):\n",
    "        # print(\"Eagle is flying.\")\n",
    "        \n",
    "eagle = Eagle()\n",
    "eagle.fly()"
   ]
  },
  {
   "cell_type": "code",
   "execution_count": null,
   "metadata": {},
   "outputs": [],
   "source": [
    "# assert : 특정 조건을 만족하지 않을 때 예외 발생\n",
    "# assert는 일반적인 예외 처리를 대체하기 위해 사용해서는 안 됨. 주로 개발 과정에서의 논리적 오류를 잡는 데 사용해야 함.\n",
    "x = 10\n",
    "assert x > 0, \"x는 0보다 커야 합니다.\" # assert [Condition], [Erorr Message]\n",
    "\n",
    "y = -1\n",
    "assert y > 0, \"y는 0보다 커야 합니다.\" # assert [Condition], [Erorr Message]"
   ]
  },
  {
   "cell_type": "markdown",
   "metadata": {},
   "source": [
    "# Directory(디렉토리) 및 File(파일) 다루기"
   ]
  },
  {
   "cell_type": "code",
   "execution_count": null,
   "metadata": {},
   "outputs": [],
   "source": [
    "# Directory 및 File Path 조작\n",
    "\n",
    "\"\"\" Sample Dir 구조\n",
    "\n",
    "/virtual/path/python3.9\n",
    "│\n",
    "├───Scripts\n",
    "│   ├───pip\n",
    "│   ├───easy_install\n",
    "│   └───some_script.py\n",
    "├───Lib\n",
    "│   ├───os.py\n",
    "│   └───sys.py\n",
    "└───python3.9\n",
    "\n",
    "\"\"\"\n",
    "\n",
    "import os\n",
    "\n",
    "# 현재 작업 Dir 얻기\n",
    "print(\"현재 작업 Dir 얻기 : \", os.getcwd()) # 예시 출력 : \"/current/working/directory\"\n",
    "\n",
    "\n",
    "# Dir 변경\n",
    "os.chdir(\"/virtual/path/tmp\")\n",
    "print(\"Dir 변경 후 작업 Dir : \", os.getcwd()) # 예시 출력 : \"/virtual/path/tmp\"\n",
    "\n",
    "\n",
    "# File 혹은 Dir가 존재하는지 체크\n",
    "exists = os.path.exists(\"/virtual/path/python3.9\")\n",
    "print(\"File 혹은 Dir가 존재하는지 체크 : \", exists) # 예시 출력 : True\n",
    "\n",
    "\n",
    "# Dir가 존재하는지 체크\n",
    "is_exist_dir = os.path.isdir(\"/virtual/path/python3.9\")\n",
    "print(\"Dir가 존재하는지 체크 : \", is_exist_dir) # 예시 출력 : True\n",
    "\n",
    "\n",
    "# File이 존재하는지 체크\n",
    "is_exist_file = os.path.isfile(\"/virtual/path/python3.9/python3.9\")\n",
    "print(\"File이 존재하는지 체크 : \", is_exist_file) # 예시 출력 : True\n",
    "\n",
    "\n",
    "# 새로운 Dir 생성\n",
    "os.makedirs(\"/virtual/path/python3.9/new_dir\", exist_ok=True) # exist_ok=True : 생성하려는 Dir가 이미 존재하는 경우에도 에러 발생 x\n",
    "\n",
    "\n",
    "# Dir 안의 Sub Dir, File List\n",
    "directory_list = os.listdir(\"/virtual/path/python3.9\")\n",
    "print(\"Dir 안의 Sub Dir, File List : \", directory_list) # 예시 출력 : ['Scripts', 'Lib', 'python3.9']\n",
    "\n",
    "\n",
    "# 특정 Path에 대해 Aboslute Path(절대 경로) 얻기\n",
    "absolute_path = os.path.abspath(\"./Scripts\")\n",
    "print(\"Aboslute Path(절대 경로) 얻기 : \", absolute_path) # 예시 출력 : \"/virtual/path/python3.9/Scripts\"\n",
    "\n",
    "\n",
    "# Path 중 Dir 이름만 얻기\n",
    "dir_name = os.path.dirname(\"/virtual/path/python3.9/Scripts/pip\")\n",
    "print(\"Path 중 Dir 이름만 얻기 : \", dir_name) # 예시 출력 : \"/virtual/path/python3.9/Scripts\"\n",
    "\n",
    "\n",
    "# Path 중 File 이름만 얻기\n",
    "if os.path.isfile(\"/virtual/path/python3.9/Scripts/pip\"):\n",
    "    file_name = os.path.basename(\"/virtual/path/python3.9/Scripts/pip\")\n",
    "    print(\"Path 중 File 이름만 얻기 : \", file_name) # 예시 출력 : \"pip\"\n",
    "\n",
    "\n",
    "# Path 중 Dir 이름과 File 이름을 나누어 얻기\n",
    "dir_name, file_name = os.path.split(\"/virtual/path/python3.9/Scripts/pip\") # os 라이브러리의 split(), String 객체의 split()과 다름.\n",
    "print(\"Path 중 Dir 이름 : \", dir_name) # 예시 출력 : \"/virtual/path/python3.9/Scripts\"\n",
    "print(\"Path 중 File 이름 : \", file_name) # 예시 출력 : \"pip\"\n",
    "\n",
    "\n",
    "# os.path.sep으로 OS별 Path 분리\n",
    "path_parts_sep = \"/virtual/path/python3.9/Scripts/pip\".split(os.path.sep) # String 객체의 split(), Windows는 \"\\\\\"로 분리, Unix(Linux, MacOS)는 \"/\"로 분리\n",
    "print(\"os.path.sep으로 OS별 Path 분리 : \", path_parts_sep) # 예시 출력 : ['', 'virtual', 'path', 'python3.9', 'Scripts', 'pip']\n",
    "\n",
    "\n",
    "# File 이름과 확장자 이름을 분리하여 얻기\n",
    "file_name, file_ext = os.path.splitext(\"./sample_img.jpg\")\n",
    "print(\"File 이름과 확장자 이름을 분리하여 얻기 : \", (file_name, file_ext)) # 예시 출력 : (\"./sample_img\", \".jpg\")\n",
    "\n",
    "\n",
    "# Path를 병합하여 새 Path 생성\n",
    "new_path = os.path.join('/virtual/path/tmp', 'a', 'b')\n",
    "print(\"Path를 병합하여 새 Path 생성 : \", new_path) # 예시 출력 : \"/virtual/path/tmp/a/b\"\n",
    "\n",
    "\n",
    "# Dir 내 모든 Sub Dir와 File을 재귀적으로 탐색하기\n",
    "print(\"Dir 내 모든 Sub Dir와 File을 재귀적으로 탐색하기 : \")\n",
    "for root, dirs, files in os.walk(\"/virtual/path/python3.9\"):\n",
    "    print(\"Root : \", root) # 현재 Dir\n",
    "    print(\"Dirs : \", dirs) # Sub Dir\n",
    "    print(\"Files : \", files) # File\n",
    "    print(\"-\" * 20)\n",
    "\n",
    "\"\"\" 예시 출력 :\n",
    "\n",
    "Dir 내 모든 File과 Dir를 재귀적으로 탐색하기 : \n",
    "Root: /virtual/path/python3.9\n",
    "Dirs: ['Scripts', 'Lib']\n",
    "Files: ['python3.9']\n",
    "--------------------\n",
    "Root: /virtual/path/python3.9/Scripts\n",
    "Dirs: []\n",
    "Files: ['pip', 'easy_install', 'some_script.py']\n",
    "--------------------\n",
    "Root: /virtual/path/python3.9/Lib\n",
    "Dirs: []\n",
    "Files: ['os.py', 'sys.py']\n",
    "-------------------- \n",
    "\n",
    "\"\"\"\n",
    "\n",
    "\n",
    "# File의 크기 얻기\n",
    "file_size = os.path.getsize(\"/virtual/path/python3.9/python3.9\")\n",
    "print(\"File의 크기 : \", file_size)  # 예시 출력 : (파일 크기에 따라 다름)\n",
    "\n",
    "\n",
    "# Dir의 크기 얻기 (Custom Function)\n",
    "def get_directory_size(directory):\n",
    "    total_size = 0\n",
    "    \n",
    "    for dirpath, dirnames, filenames in os.walk(directory):\n",
    "        for f in filenames:\n",
    "            fp = os.path.join(dirpath, f)\n",
    "            \n",
    "            if os.path.exists(fp):\n",
    "                total_size += os.path.getsize(fp)\n",
    "                \n",
    "    return total_size\n",
    "\n",
    "directory = \"/virtual/path/python3.9\"\n",
    "dir_size = get_directory_size(directory)\n",
    "\n",
    "print(f\"Size of Directory '{directory}' : {dir_size} bytes\")"
   ]
  },
  {
   "cell_type": "code",
   "execution_count": null,
   "metadata": {},
   "outputs": [],
   "source": [
    "# Directory 및 File 조작\n",
    "\n",
    "\"\"\" Sample Dir 구조\n",
    "\n",
    "/virtual/path/python3.9\n",
    "│\n",
    "├───Scripts\n",
    "│   ├───pip\n",
    "│   ├───easy_install\n",
    "│   └───some_script.py\n",
    "├───Lib\n",
    "│   ├───os.py\n",
    "│   └───sys.py\n",
    "└───python3.9\n",
    "\n",
    "\"\"\"\n",
    "\n",
    "import os\n",
    "import shutil\n",
    "\n",
    "# Dir 복사 (Sub Dir, File 모두 포함)\n",
    "shutil.copytree(\"/virtual/path/python3.9/Scripts\", \"/virtual/path/Scripts_copy\")\n",
    "\n",
    "\n",
    "# File 복사\n",
    "shutil.copy(\"/virtual/path/python3.9/python3.9\", \"/virtual/path/python3.9_copy\")\n",
    "\n",
    "\n",
    "# File 복사 (수정 시간, 권한 등의 Metadata 포함)\n",
    "shutil.copy2(\"/virtual/path/python3.9/python3.9\", \"/virtual/path/python3.9_copy2\")\n",
    "\n",
    "\n",
    "# Dir 혹은 File 이동\n",
    "shutil.move(\"/virtual/path/python3.9_copy\", \"/virtual/path/moved/moved_python3.9_copy\")\n",
    "\n",
    "\n",
    "# Dir 삭제\n",
    "shutil.rmtree(\"/virtual/path/Scripts_copy\")\n",
    "\n",
    "\n",
    "# File 삭제\n",
    "os.remove(\"/virtual/path/python3.9_copy2\")"
   ]
  },
  {
   "cell_type": "markdown",
   "metadata": {},
   "source": [
    "# Closure & Decorator"
   ]
  },
  {
   "cell_type": "code",
   "execution_count": null,
   "metadata": {},
   "outputs": [],
   "source": [
    "# Closure\n",
    "def mul(m):\n",
    "    def wrapper(n): # Closure 함수 : 함수 내부에 함수를 정의하여 사용\n",
    "        return m * n\n",
    "    \n",
    "    return wrapper # Closure 함수 Return\n",
    "\n",
    "mul3 = mul(3)\n",
    "mul5 = mul(5)\n",
    "\n",
    "print(mul3(10))\n",
    "print(mul5(10)) "
   ]
  },
  {
   "cell_type": "code",
   "execution_count": null,
   "metadata": {},
   "outputs": [],
   "source": [
    "# Decorator\n",
    "import time\n",
    "\n",
    "def time_check(original_func): # 기존 함수를 인자로 받음.\n",
    "    def wrapper():\n",
    "        start = time.time() # 시작 시간 기록\n",
    "        result = original_func() # 기존 함수 실행\n",
    "        end = time.time() # 종료 시간 기록\n",
    "        print(f\"함수 수행시간 : {(end - start)}초\")\n",
    "        \n",
    "        return result # 기존 함수의 결과 Return\n",
    "    \n",
    "    return wrapper # Closure 함수 Return\n",
    "\n",
    "@time_check # Decorator : time_check 함수는 my_func()를 인자로 받음.\n",
    "def my_func():\n",
    "    print(\"함수가 실행됩니다.\")\n",
    "\n",
    "my_func()"
   ]
  },
  {
   "cell_type": "code",
   "execution_count": null,
   "metadata": {},
   "outputs": [],
   "source": [
    "# Decorator with Parameter\n",
    "import time\n",
    "\n",
    "def time_check(original_func):\n",
    "    def wrapper(*args, **kwargs): # Decorator에 Parameter를 전달하기 위해 *args, **kwargs 사용\n",
    "        start = time.time()\n",
    "        result = original_func(*args, **kwargs) # Parameter 전달\n",
    "        end = time.time()\n",
    "        print(f\"함수 수행시간 : {(end - start)}초\")\n",
    "        \n",
    "        return result\n",
    "    \n",
    "    return wrapper\n",
    "\n",
    "@time_check\n",
    "def my_func(msg): # Parameter를 받음.\n",
    "    print(f\"{msg}을 출력합니다.\")\n",
    "\n",
    "my_func(\"You need Python.\")"
   ]
  }
 ],
 "metadata": {
  "kernelspec": {
   "display_name": "Python 3",
   "language": "python",
   "name": "python3"
  },
  "language_info": {
   "codemirror_mode": {
    "name": "ipython",
    "version": 3
   },
   "file_extension": ".py",
   "mimetype": "text/x-python",
   "name": "python",
   "nbconvert_exporter": "python",
   "pygments_lexer": "ipython3",
   "version": "3.12.2"
  }
 },
 "nbformat": 4,
 "nbformat_minor": 2
}
