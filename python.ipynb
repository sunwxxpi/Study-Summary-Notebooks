{
 "cells": [
  {
   "cell_type": "markdown",
   "metadata": {},
   "source": [
    "# Basic"
   ]
  },
  {
   "cell_type": "code",
   "execution_count": null,
   "metadata": {},
   "outputs": [],
   "source": [
    "print(0x10) # 16진수\n",
    "print(0o30) # 8진수\n",
    "print(0b1000) # 2진수"
   ]
  },
  {
   "cell_type": "code",
   "execution_count": null,
   "metadata": {},
   "outputs": [],
   "source": [
    "# ;를 사용하여 한 줄에 작성 가능\n",
    "a=3; b=4\n",
    "print(a); print(b)"
   ]
  },
  {
   "cell_type": "code",
   "execution_count": null,
   "metadata": {},
   "outputs": [],
   "source": [
    "# 변수 선언 삭제, Memory 관리 가능\n",
    "a = 3\n",
    "del a\n",
    "\n",
    "print(a)"
   ]
  },
  {
   "cell_type": "code",
   "execution_count": null,
   "metadata": {},
   "outputs": [],
   "source": [
    "print(\"Hello\", \"World!\")\n",
    "print(\"Hello\" + \"World!\")\n",
    "\n",
    "print(\"Hello\", \"World!\", sep=\" \", end=\"\\n\") # sep과 end의 default 값"
   ]
  },
  {
   "cell_type": "code",
   "execution_count": null,
   "metadata": {},
   "outputs": [],
   "source": [
    "# r(Raw) String\n",
    "print(\"\\\\\\\\\\'\")\n",
    "print(r\"\\\\'\") # 하지만 r string은 마지막에 \\를 붙이면 에러 발생"
   ]
  },
  {
   "cell_type": "code",
   "execution_count": null,
   "metadata": {},
   "outputs": [],
   "source": [
    "# == : 값 자체 비교\n",
    "# is : 객체(메모리 주소) 비교\n",
    "a = 257; b = 257\n",
    "print(a == b)\n",
    "print(a is b)\n",
    "\n",
    "# -5 ~ 256까지는 메모리 주소가 같음\n",
    "# 내부 Casheing\n",
    "# Interning\n",
    "c = 3; d = 3\n",
    "print(c == d)\n",
    "print(c is d)"
   ]
  },
  {
   "cell_type": "code",
   "execution_count": null,
   "metadata": {},
   "outputs": [],
   "source": [
    "# type() & isinstance()\n",
    "print(type(123))\n",
    "\n",
    "if type(123) is int:\n",
    "    print(\"It's int\")\n",
    "\n",
    "if type(123) == int:\n",
    "    print(\"It's int\")\n",
    "    \n",
    "if isinstance(123, int):\n",
    "    print(\"It's int\")"
   ]
  },
  {
   "cell_type": "code",
   "execution_count": null,
   "metadata": {},
   "outputs": [],
   "source": [
    "# Bool type : True & False\n",
    "print(bool(1))\n",
    "print(bool([1, 2]))\n",
    "print(bool(\"abc\"))\n",
    "\n",
    "print(bool(0))\n",
    "print(bool([]))\n",
    "print(bool(\"\"))"
   ]
  },
  {
   "cell_type": "code",
   "execution_count": null,
   "metadata": {},
   "outputs": [],
   "source": [
    "x = 2\n",
    "print(x & 3) # & : 비트 연산자\n",
    "print(x>1 and x<5) # and : 논리 연산자\n",
    "\n",
    "y = 3\n",
    "print(y | 8) # | : 비트 연산자\n",
    "print(y == 3 or y == 4) # or : 논리 연산자"
   ]
  },
  {
   "cell_type": "code",
   "execution_count": null,
   "metadata": {},
   "outputs": [],
   "source": [
    "a, b, c = 1, 2, 3\n",
    "print(a, b, c)\n",
    "\n",
    "d = [[1, 2, 3], [4, 5, 6]]\n",
    "for x, y, z in d:\n",
    "    print(x, y, z)"
   ]
  },
  {
   "cell_type": "code",
   "execution_count": null,
   "metadata": {},
   "outputs": [],
   "source": [
    "several_line_str = '''꿀꽈배기는\n",
    "너무\n",
    "맛있어요'''\n",
    "print(several_line_str)"
   ]
  },
  {
   "cell_type": "markdown",
   "metadata": {},
   "source": [
    "# List"
   ]
  },
  {
   "cell_type": "code",
   "execution_count": null,
   "metadata": {},
   "outputs": [],
   "source": [
    "# List의 '+'는 더하는게 아니라 쌓는다.\n",
    "a = [1, 2, 3]\n",
    "b = [4, 5, 6]\n",
    "print(a + b)\n",
    "print(a * 3)\n",
    "print(a * (12/4)) # Python에서 나누기는 실수로 나눈다."
   ]
  },
  {
   "cell_type": "code",
   "execution_count": null,
   "metadata": {},
   "outputs": [],
   "source": [
    "# append(), List의 '+'로 쌓기 가능\n",
    "a = []\n",
    "a.append(1)\n",
    "a += [2, 3]\n",
    "a += [\"Hello\"]\n",
    "print(a)\n",
    "\n",
    "# 문자열 자체를 더하면 List에 쪼개져서 쌓아짐.\n",
    "a += \"Hello\"\n",
    "print(a)\n",
    "\n",
    "# 숫자 자체를 더하면 오류 발생\n",
    "a += 3\n",
    "print(a)"
   ]
  },
  {
   "cell_type": "code",
   "execution_count": null,
   "metadata": {},
   "outputs": [],
   "source": [
    "# append() : List 자체를 추가\n",
    "a = [1, 2, 3]\n",
    "a.append([4, 5]) # a += [[4, 5]]\n",
    "a.append(\"Hello\")\n",
    "print(a)\n",
    "\n",
    "# extend() : List의 요소를 추가\n",
    "b = [1, 2, 3]\n",
    "b.extend([4, 5]) # b += [4, 5]\n",
    "b.extend(\"Hello\")\n",
    "print(b)\n",
    "\n",
    "# List 자체를 insert\n",
    "c = [1, 2, 3]\n",
    "c.insert(2, [10, 20])\n",
    "print(c)\n",
    "\n",
    "# List의 요소를 insert\n",
    "d = [1, 2, 3]\n",
    "d[2:2] = [10, 20]\n",
    "print(d)"
   ]
  },
  {
   "cell_type": "code",
   "execution_count": null,
   "metadata": {},
   "outputs": [],
   "source": [
    "# pop()\n",
    "print(\"pop()\")\n",
    "a = [1, 2, 3, 4, 5]\n",
    "val = a.pop()\n",
    "print(f'val : {val}')\n",
    "print(f'a : {a}', end=\"\\n\\n\")\n",
    "\n",
    "a = [1, 2, 3]\n",
    "a.pop(2)\n",
    "print(a, end=\"\\n\\n\")\n",
    "\n",
    "# remove()\n",
    "print(\"remove()\")\n",
    "a = [1, 2, 3, 4, 5, 3, 2, 3]\n",
    "a.remove(3) # 처음의 3만 삭제\n",
    "print(a, end=\"\\n\\n\")\n",
    "\n",
    "# index()\n",
    "print(\"index()\")\n",
    "a = [1, 2, 3, 4, 5]\n",
    "print(a.index(3), end=\"\\n\\n\") # 첫번 째 3의 index를 반환\n",
    "\n",
    "# count()\n",
    "print(\"count()\")\n",
    "a = [1, 2, 3, 4, 5, 3, 2, 3]\n",
    "print(a.count(3), end=\"\\n\\n\") # 3의 개수를 반환\n",
    "\n",
    "# reverse()\n",
    "print(\"reverse()\")\n",
    "a = [1, 2, 3, 4, 5]\n",
    "a.reverse()\n",
    "print(a)\n",
    "print(list(reversed(a)), end=\"\\n\\n\") # reversed() 자체는 List를 반환하지 않음.\n",
    "\n",
    "# sort()\n",
    "print(\"sort()\")\n",
    "a = [1, 5, 3, 4, 2]\n",
    "b = [1, 5, 3, 4, 2]\n",
    "c = [\"a\", \"c\", \"b\"]\n",
    "a.sort() # 오름차순\n",
    "b.sort(reverse=True) # 내림차순\n",
    "c.sort()\n",
    "print(a)\n",
    "print(sorted(a)) # sorted() 자체는 List를 반환\n",
    "print(b)\n",
    "print(c, end=\"\\n\\n\")\n",
    "\n",
    "# clear()\n",
    "print(\"clear()\")\n",
    "a = [1, 2, 3, 4, 5]\n",
    "a.clear()\n",
    "print(a, end=\"\\n\\n\")\n",
    "\n",
    "# min(), max(), sum()\n",
    "print(\"min(), max(), sum()\")\n",
    "a = [1, 2, 3, 4, 5]\n",
    "print(min(a))\n",
    "print(max(a))\n",
    "print(sum(a), end=\"\\n\\n\")"
   ]
  },
  {
   "cell_type": "markdown",
   "metadata": {},
   "source": [
    "# List Comprehension (List 표현식)"
   ]
  },
  {
   "cell_type": "code",
   "execution_count": null,
   "metadata": {},
   "outputs": [],
   "source": [
    "a = [i+5 for i in range(5)]\n",
    "print(a)\n",
    "\n",
    "b = [i-j for i in range(1, 5) for j in range(1, 5)]\n",
    "print(b)\n",
    "\n",
    "c = [i for i in range(10) if i % 2 == 0]\n",
    "print(c)"
   ]
  },
  {
   "cell_type": "code",
   "execution_count": null,
   "metadata": {},
   "outputs": [],
   "source": [
    "# 올바른 초기화 방법\n",
    "a = [[0 for _ in range(2)] for _ in range(3)]\n",
    "a[0][1] = 10\n",
    "print(a)\n",
    "\n",
    "# 잘못된 초기화 방법\n",
    "a = [[0 for _ in range(2)]]*3\n",
    "a[0][1] = 10\n",
    "print(a)\n",
    "\n",
    "# 활용\n",
    "a = [3, 1, 3, 2]\n",
    "b = [[0]*i for i in a]\n",
    "b[0][0] = 10\n",
    "print(b)"
   ]
  },
  {
   "cell_type": "markdown",
   "metadata": {},
   "source": [
    "# Range"
   ]
  },
  {
   "cell_type": "code",
   "execution_count": null,
   "metadata": {},
   "outputs": [],
   "source": [
    "# range()\n",
    "print(range(10))\n",
    "print(list(range(10)))\n",
    "print(list(range(2, 5)))\n",
    "print(list(range(2, 10, 2)))\n",
    "print(list(range(10, 6, -1)))"
   ]
  },
  {
   "cell_type": "code",
   "execution_count": null,
   "metadata": {},
   "outputs": [],
   "source": [
    "# reversed()를 사용하여 역순으로 출력 가능\n",
    "a = range(1, 11)\n",
    "print(list(a))\n",
    "print(list(reversed(a)))"
   ]
  },
  {
   "cell_type": "markdown",
   "metadata": {},
   "source": [
    "# Tuple & String"
   ]
  },
  {
   "cell_type": "code",
   "execution_count": null,
   "metadata": {},
   "outputs": [],
   "source": [
    "# Tuple과 String은 Immutable 객체 (변경 불가능)\n",
    "a = (1, 2, 3)\n",
    "string_1 = \"Hello\"\n",
    "\n",
    "a[0] = 1\n",
    "string_1[2] = 2"
   ]
  },
  {
   "cell_type": "code",
   "execution_count": null,
   "metadata": {},
   "outputs": [],
   "source": [
    "# strip()\n",
    "str = '...나도..고등학교...'\n",
    "str_lstrip = str.lstrip('.')\n",
    "str_rstrip = str.rstrip('.')\n",
    "str_strip = str.strip('.')\n",
    "print(str_lstrip)\n",
    "print(str_rstrip)\n",
    "print(str_strip)"
   ]
  },
  {
   "cell_type": "markdown",
   "metadata": {},
   "source": [
    "# Indexing & Slicing"
   ]
  },
  {
   "cell_type": "code",
   "execution_count": null,
   "metadata": {},
   "outputs": [],
   "source": [
    "# Indexing\n",
    "a = [1, 2, 3, 4, 5]\n",
    "print(a)\n",
    "\n",
    "del a[1]\n",
    "print(a[-1])"
   ]
  },
  {
   "cell_type": "code",
   "execution_count": null,
   "metadata": {},
   "outputs": [],
   "source": [
    "# range 객체로 Indexing 가능\n",
    "a = range(1, 8, 2)\n",
    "print(a[0], a[1], a[2])"
   ]
  },
  {
   "cell_type": "code",
   "execution_count": null,
   "metadata": {},
   "outputs": [],
   "source": [
    "# Slicing\n",
    "a = list(range(11))\n",
    "b = a[0:3]\n",
    "c = a[4:]\n",
    "d = a[:5]\n",
    "e = a[:]\n",
    "f = a[::-1]\n",
    "g = a[4:-1]\n",
    "h = a[1:7:2]\n",
    "i = a[6:2:-1]\n",
    "print(f'a = {a}')\n",
    "print(f'b = {b}')\n",
    "print(f'c = {c}')\n",
    "print(f'd = {d}')\n",
    "print(f'e = {e}')\n",
    "print(f'f = {f}')\n",
    "print(f'g = {g}')\n",
    "print(f'h = {h}')\n",
    "print(f'i = {i}')\n",
    "\n",
    "# del도 Slicing 가능\n",
    "del a[2:6:3]\n",
    "print(a)"
   ]
  },
  {
   "cell_type": "markdown",
   "metadata": {},
   "source": [
    "# Dictionary"
   ]
  },
  {
   "cell_type": "code",
   "execution_count": null,
   "metadata": {},
   "outputs": [],
   "source": [
    "# 숫자, String 무엇이든 Key: Value로 사용 가능\n",
    "my_dict = {'name': 'Kim',\n",
    "           'age': 33,\n",
    "           200: 'Good'}\n",
    "\n",
    "print(my_dict)\n",
    "print(my_dict['name'])\n",
    "print(my_dict[200])\n",
    "\n",
    "print(f'len of my_dict is {len(my_dict)}') # len()은 Key의 개수를 반환\n",
    "print('age' in my_dict) # Dictionary의 in은 \"Key\"의 존재 여부를 반환\n",
    "\n",
    "print(my_dict.keys())\n",
    "print(list(my_dict.keys()))\n",
    "print(my_dict.values())\n",
    "print(list(my_dict.values()))\n",
    "print(my_dict.items())\n",
    "print(list(my_dict.items()))"
   ]
  },
  {
   "cell_type": "code",
   "execution_count": null,
   "metadata": {},
   "outputs": [],
   "source": [
    "my_dict = {'name': 'Kim',\n",
    "           'age': 33,\n",
    "           200: 'Good'}\n",
    "\n",
    "print(my_dict['name'])\n",
    "my_dict['name'] = 'Lee'\n",
    "print(my_dict['name'])\n",
    "my_dict['gender'] = \"female\"\n",
    "print(my_dict)"
   ]
  },
  {
   "cell_type": "code",
   "execution_count": null,
   "metadata": {},
   "outputs": [],
   "source": [
    "# zip() : 두 개의 List를 Key, Value로 묶어줌.\n",
    "a = zip(['a', 'b'], [1, 2])\n",
    "print(a)\n",
    "print(dict(a)) # iterate\n",
    "print(list(a)) # zip 객체는 한 번 사용(iterate)하면 사라짐.\n",
    "\n",
    "b = list(zip(['a', 'b'], [1, 2]))\n",
    "print(dict(b))\n",
    "print(b) # list(zip())은 계속 사용 가능"
   ]
  },
  {
   "cell_type": "markdown",
   "metadata": {},
   "source": [
    "# 조건문"
   ]
  },
  {
   "cell_type": "code",
   "execution_count": null,
   "metadata": {},
   "outputs": [],
   "source": [
    "if 1:\n",
    "    print(\"1\")\n",
    "    \n",
    "if -1:\n",
    "    print(\"-1\")\n",
    "    \n",
    "if 0:\n",
    "    print(\"0\")\n",
    "    \n",
    "if \"H\":\n",
    "    print(\"H\")\n",
    "    \n",
    "if \"\":\n",
    "    print(\"\")\n",
    "    \n",
    "if [1, 2]:\n",
    "    print(\"[1, 2]\")\n",
    "    \n",
    "if []:\n",
    "    print(\"[]\")"
   ]
  },
  {
   "cell_type": "code",
   "execution_count": null,
   "metadata": {},
   "outputs": [],
   "source": [
    "# 부등호 연속 사용 가능\n",
    "x = 5\n",
    "if 0 < x < 10:\n",
    "    print(\"0 < x < 10\")"
   ]
  },
  {
   "cell_type": "code",
   "execution_count": null,
   "metadata": {},
   "outputs": [],
   "source": [
    "# 삼항 연산자\n",
    "x = int(input())\n",
    "y = int(input())\n",
    "\n",
    "if x > 0:\n",
    "    print(1 if y>0 else 4)\n",
    "else:\n",
    "    print(2 if y>0 else 3)"
   ]
  },
  {
   "cell_type": "markdown",
   "metadata": {},
   "source": [
    "# 반복문 & break & continue & enumerate"
   ]
  },
  {
   "cell_type": "code",
   "execution_count": null,
   "metadata": {},
   "outputs": [],
   "source": [
    "# 반복 가능한 객체는 for문 사용 가능\n",
    "a = [1, \"Hello\", 3, \"Hi\"]\n",
    "for i in a:\n",
    "    print(i, end=\" \")\n",
    "\n",
    "print()\n",
    "\n",
    "for i in reversed(range(10)):\n",
    "    print(i, end=\" \")\n",
    "    \n",
    "print()\n",
    "\n",
    "for i in \"Hello\":\n",
    "    print(i, end=\" \")\n",
    "    \n",
    "print()\n",
    "\n",
    "dict_a = {1: \"Hello\", 2: \"World\"}\n",
    "for a, b in zip([1, 2], [\"Hello\", \"World\"]):\n",
    "# for a, b in dict_a.items():\n",
    "# for a, b in zip(dict_a.keys(), dict_a.values()):\n",
    "    print(a, b)"
   ]
  },
  {
   "cell_type": "code",
   "execution_count": null,
   "metadata": {},
   "outputs": [],
   "source": [
    "# break\n",
    "i = 0\n",
    "while i < 5:\n",
    "    print(i, end=\" \")\n",
    "    i += 1\n",
    "\n",
    "print()\n",
    "    \n",
    "i = 0\n",
    "while 1:\n",
    "    print(i, end=\" \")\n",
    "    i += 1\n",
    "    \n",
    "    if i == 10:\n",
    "        break"
   ]
  },
  {
   "cell_type": "code",
   "execution_count": null,
   "metadata": {},
   "outputs": [],
   "source": [
    "# Debugging용으로 break 사용 가능\n",
    "EPOCH = 10\n",
    "for i in range(EPOCH):\n",
    "    '''\n",
    "    To-Do 1\n",
    "    '''\n",
    "    \n",
    "    break # break를 뒤로 미뤄가면서 Debugging 가능\n",
    "    \n",
    "    '''\n",
    "    To-Do 2\n",
    "    '''"
   ]
  },
  {
   "cell_type": "code",
   "execution_count": null,
   "metadata": {},
   "outputs": [],
   "source": [
    "# continue\n",
    "for i in range(10):\n",
    "    if i % 2 == 0:\n",
    "        continue\n",
    "    \n",
    "    print(i, end=\" \")"
   ]
  },
  {
   "cell_type": "code",
   "execution_count": null,
   "metadata": {},
   "outputs": [],
   "source": [
    "# enumerate()\n",
    "a = [2, 4, 6, 8, 10]\n",
    "\n",
    "for index, value in enumerate(a, start=1):\n",
    "    print(f'index: {index}, value: {value}')"
   ]
  },
  {
   "cell_type": "markdown",
   "metadata": {},
   "source": [
    "# File 입출력"
   ]
  },
  {
   "cell_type": "code",
   "execution_count": null,
   "metadata": {},
   "outputs": [],
   "source": [
    "import os\n",
    "\n",
    "folder_name = \"saved\"\n",
    "\n",
    "if not os.path.exists(folder_name):\n",
    "    os.makedirs(folder_name)\n",
    "    \n",
    "with open(f'{folder_name}/test.txt', 'w', encoding='utf8') as f: # 'w' : txt File을 새로 만들고 Write\n",
    "    f.write(\"Hello World! 1\\n\")\n",
    "    f.write(\"Hello World! 2\\n\")\n",
    "    f.write(\"Hello World! 3\\n\")\n",
    "\n",
    "with open(f'{folder_name}/test.txt', 'a', encoding='utf8') as f: # 'w' : txt File을 새로 만들고 Write\n",
    "    f.write(\"Hello World! 4\\n\")\n",
    "    f.write(\"Hello World! 5\\n\")\n",
    "    f.write(\"Hello World! 6\\n\")\n",
    "\n",
    "with open(f'{folder_name}/test.txt', encoding='utf8') as f: # 'r' : txt File을 읽음.\n",
    "    s_1 = f.read(5) # read(5) : 5 Byte만 읽음.\n",
    "    s_2 = f.read() # read() : 모든 내용을 읽음.\n",
    "print(s_1)\n",
    "print(s_2)\n",
    "\n",
    "with open(f'{folder_name}/test.txt', encoding='utf8') as f:\n",
    "    for i in range(6):\n",
    "        s = f.readline().rstrip() # readline() : 한 줄씩 읽음, rstrip() : '\\n' 제거\n",
    "        print(s)\n",
    "\n",
    "print()\n",
    "\n",
    "with open(f'{folder_name}/test.txt', encoding='utf8') as f:\n",
    "    for line in f:\n",
    "        print(line.rstrip())\n",
    "        \n",
    "print()\n",
    "\n",
    "with open(f'{folder_name}/test.txt', encoding='utf8') as f:\n",
    "    s = f.readlines() # readlines() : 모든 줄을 읽어서 List로 반환\n",
    "print(s)"
   ]
  },
  {
   "cell_type": "code",
   "execution_count": null,
   "metadata": {},
   "outputs": [],
   "source": [
    "with open(f'{folder_name}/test.txt', encoding='utf8') as f:\n",
    "    for line in f:\n",
    "        print(line.rstrip())"
   ]
  },
  {
   "cell_type": "markdown",
   "metadata": {},
   "source": [
    "# Function (함수)"
   ]
  },
  {
   "cell_type": "code",
   "execution_count": null,
   "metadata": {},
   "outputs": [],
   "source": [
    "# Call by Reference (Mutable) (List, Dictionary...)\n",
    "def f(x):\n",
    "    x[0] = 5\n",
    "    \n",
    "a = [1, 2, 3]\n",
    "f(a)\n",
    "print(a)\n",
    "\n",
    "# Call by Value (Immutable) (Number, String, Tuple...)\n",
    "def y(x):\n",
    "    x = 5\n",
    "\n",
    "a = 3\n",
    "y(a)\n",
    "print(a)"
   ]
  },
  {
   "cell_type": "code",
   "execution_count": null,
   "metadata": {},
   "outputs": [],
   "source": [
    "def introduce(name, age=\"비밀\", address=\"비밀\"): # Default 값은 뒤에서부터 채워야 함.\n",
    "    print(f'이름: {name}, 나이: {age}, 주소: {address}')\n",
    "\n",
    "introduce(\"Kim\", \"Hello\") # 인자가 순서대로 들어감."
   ]
  },
  {
   "cell_type": "code",
   "execution_count": null,
   "metadata": {},
   "outputs": [],
   "source": [
    "def introduce(name, age=\"비밀\", address=\"비밀\"): # Default 값은 뒤에서부터 채워야 함.\n",
    "    print(f'이름: {name}, 나이: {age}, 주소: {address}')\n",
    "    \n",
    "my_dict = {\n",
    "    'name': \"Kim\",\n",
    "    'age': 33,\n",
    "    'address': \"Seoul\"\n",
    "    }\n",
    "\n",
    "print(*my_dict) # Key 값만 출력\n",
    "introduce(*my_dict) # introduce(name, age, address)로 들어감.\n",
    "\n",
    "print(dict(my_dict))\n",
    "print({**my_dict})\n",
    "introduce(**my_dict) # introduce(name=\"Kim\", age=33, address=\"Seoul\")로 들어감."
   ]
  },
  {
   "cell_type": "code",
   "execution_count": null,
   "metadata": {},
   "outputs": [],
   "source": [
    "# *args : arguments(가변 인자)\n",
    "x = (10, 20)\n",
    "print(x)\n",
    "print(*x) # Unpacking\n",
    "\n",
    "numbers = (1, 2, 3, 4, 5)\n",
    "one, two, *others = numbers # others : Unpacking한 기준으로 값들을 받아\n",
    "print(others) # Packing\n",
    "\n",
    "def my_func(*args): # Unpacking한 기준으로 값들을 받아\n",
    "    print(f\"args에는 {args}가 들어있습니다.\") # Packing\n",
    "    for arg in args:\n",
    "        print(arg)\n",
    "\n",
    "my_func(1)\n",
    "my_func(1, 2, 3)\n",
    "\n",
    "def visit(today, *customers):\n",
    "    print(today)\n",
    "    for customer in customers:\n",
    "        print(customer)\n",
    "\n",
    "visit('2023년 1월 1일', '장발장', '이남수')"
   ]
  },
  {
   "cell_type": "code",
   "execution_count": null,
   "metadata": {},
   "outputs": [],
   "source": [
    "# **kwargs : keyword arguments(가변 키워드 인자)\n",
    "my_dict = {\n",
    "    'name': \"Kim\",\n",
    "    'age': 33,\n",
    "    'address': \"Seoul\"\n",
    "    }\n",
    "print(my_dict)\n",
    "print(*my_dict)\n",
    "\n",
    "def my_func(**kwargs): # 2번 Unpacking한 기준으로 값들을 받아\n",
    "    print(f\"kwargs에는 {kwargs}가 들어있습니다.\") # 2번 Packing\n",
    "    for key, value in kwargs.items():\n",
    "        print(f'{key}: {value}')\n",
    "        \n",
    "my_func(name=\"Kim\", age=33, address=\"Seoul\")\n",
    "my_func(**my_dict)\n",
    "\n",
    "def f(**kwargs):\n",
    "    print(kwargs[\"a\"])\n",
    "    if \"b\" in kwargs:\n",
    "        print(kwargs[\"b\"])\n",
    "\n",
    "f(a=1, b=2)\n",
    "f(a=1)\n",
    "\n",
    "class MyModel(nn.Module):\n",
    "    def __init__(self, **kwargs):\n",
    "        super(MyModel, self).__init__()\n",
    "        # 'input_dim' 키가 kwargs에 없으면 기본값 10 사용\n",
    "        self.fc = nn.Linear(kwargs.get('input_dim', 10), kwargs.get('output_dim', 2)) # get() : Key가 없으면 None 반환, Default 값 지정 가능\n",
    "\n",
    "    def forward(self, x):\n",
    "        return self.fc(x)\n",
    "\n",
    "# 'input_dim'과 'output_dim'을 명시적으로 제공\n",
    "model_with_args = MyModel(input_dim=20, output_dim=5)\n",
    "print(model_with_args.fc)  # Linear(in_features=20, out_features=5, bias=True)\n",
    "\n",
    "# 'input_dim'과 'output_dim'을 제공하지 않음\n",
    "model_without_args = MyModel()\n",
    "print(model_without_args.fc)  # Linear(in_features=10, out_features=2, bias=True)"
   ]
  },
  {
   "cell_type": "code",
   "execution_count": null,
   "metadata": {},
   "outputs": [],
   "source": [
    "# *args와 **kwargs를 동시에 사용 가능\n",
    "def introduce(*args, **kwargs):\n",
    "    print(args)\n",
    "    print(kwargs)\n",
    "    \n",
    "introduce(1, 2, 3, name=\"Kim\", age=33, address=\"Seoul\")"
   ]
  },
  {
   "cell_type": "markdown",
   "metadata": {},
   "source": [
    "# 여러 함수들"
   ]
  },
  {
   "cell_type": "code",
   "execution_count": null,
   "metadata": {},
   "outputs": [],
   "source": [
    "# round()\n",
    "print(\"round()\")\n",
    "a = 3.141592\n",
    "b = 123.456\n",
    "c = 1234.56789\n",
    "print(round(a, 2)) # 소수점 2자리까지 반올림\n",
    "print(round(b, 0)) # 정수로 반올림\n",
    "print(round(c, -1), end=\"\\n\\n\") # 10의 자리까지 반올림\n",
    "\n",
    "print(round(12343.125, 2)) # round()에서는 반올림할 때, 5는 내림 처리. 왜냐? 사실 4988877이기 때문. NumPy에서는 올림 처리."
   ]
  },
  {
   "cell_type": "code",
   "execution_count": null,
   "metadata": {},
   "outputs": [],
   "source": [
    "# copy() & copy.deepcopy()\n",
    "a = [1, 2, 3]\n",
    "b = a # 주소 복사\n",
    "c = a.copy() # copy() : 새로운 객체 생성\n",
    "a[1] = 10\n",
    "print(f'a = {a}, b = {b}, c = {c}')\n",
    "\n",
    "a = [[1, 2], [3, 4]]\n",
    "b = a.copy()\n",
    "b[0][1] = 10\n",
    "print(a, b)\n",
    "\n",
    "# copy.deepcopy() : 중첩된 객체까지 복사\n",
    "from copy import deepcopy\n",
    "\n",
    "a = [[1, 2], [3, 4]]\n",
    "b = deepcopy(a)\n",
    "b[0][1] = 10\n",
    "print(a, b)"
   ]
  },
  {
   "cell_type": "markdown",
   "metadata": {},
   "source": [
    "# Local Variable & Global Variable"
   ]
  },
  {
   "cell_type": "code",
   "execution_count": null,
   "metadata": {},
   "outputs": [],
   "source": []
  }
 ],
 "metadata": {
  "kernelspec": {
   "display_name": "Python 3",
   "language": "python",
   "name": "python3"
  },
  "language_info": {
   "codemirror_mode": {
    "name": "ipython",
    "version": 3
   },
   "file_extension": ".py",
   "mimetype": "text/x-python",
   "name": "python",
   "nbconvert_exporter": "python",
   "pygments_lexer": "ipython3",
   "version": "3.12.2"
  }
 },
 "nbformat": 4,
 "nbformat_minor": 2
}
