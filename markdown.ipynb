{
 "cells": [
  {
   "cell_type": "markdown",
   "metadata": {},
   "source": [
    "# Markdown (.MD)\n",
    "---\n",
    "[Link : More Details about Markdown and Github Flavored Markdown](https://docs.github.com/ko/get-started/writing-on-github)\n"
   ]
  },
  {
   "cell_type": "markdown",
   "metadata": {},
   "source": [
    "<!-- Line break -->\n",
    "\n",
    "Line<br>\n",
    "break  \n",
    "Double space and \"\\<br>\"\n",
    "<br/>\n",
    "Hello"
   ]
  },
  {
   "cell_type": "markdown",
   "metadata": {},
   "source": [
    "<!-- Heading -->\n",
    "\n",
    "# 큰 제목\n",
    "## 그 다음으로 큰 제목\n",
    "### 그 다음, 다음으로 큰 제목 ...\n",
    "#### 그 다음, 다음, 다음으로 큰 제목 ...\n",
    "##### 그 다음, 다음, 다음, 다음으로 큰 제목 ...\n",
    "###### 그 다음, 다음, 다음, 다음, 다음, 다음으로 큰 제목 ...\n",
    "일반 텍스트"
   ]
  },
  {
   "cell_type": "markdown",
   "metadata": {},
   "source": [
    "<!-- Text attributes -->\n",
    "\n",
    "\n",
    "Normal and *Italic* and **Bold** and ***Bold Italic***<br>\n",
    "~~Strikethrough~~"
   ]
  },
  {
   "cell_type": "markdown",
   "metadata": {},
   "source": [
    "<!-- Bullet list -->\n",
    "\n",
    "1\n",
    "- 1-1\n",
    "    - 1-1-1\n",
    "        - 1-1-1-1\n",
    "\n",
    "2\n",
    "- 2-1\n",
    "\n",
    "<!-- Numbered list -->\n",
    "\n",
    "Numbers:\n",
    "1. First\n",
    "2. Second\n",
    "3. Third"
   ]
  },
  {
   "cell_type": "markdown",
   "metadata": {},
   "source": [
    "<!-- Quote -->\n",
    "\n",
    "> ㅎ\n",
    ">> ㅎ.ㅎ\n",
    ">>> ㅎ.ㅎ.ㅎ"
   ]
  },
  {
   "cell_type": "markdown",
   "metadata": {},
   "source": [
    "<!-- Latex -->\n",
    "\n",
    "y = 2x and $y = 2x$"
   ]
  },
  {
   "cell_type": "markdown",
   "metadata": {},
   "source": [
    "<!-- Code -->\n",
    "`console.log('your message')`\n",
    "\n",
    "```python\n",
    "print(\"Hello World!\")\n",
    "print(\"Hello World!\")\n",
    "```"
   ]
  },
  {
   "cell_type": "markdown",
   "metadata": {},
   "source": [
    "<!-- Link -->\n",
    "\n",
    "Click [here](https://www.naver.com/)"
   ]
  },
  {
   "cell_type": "markdown",
   "metadata": {},
   "source": [
    "<!-- Image -->\n",
    "\n",
    "<img src=\"markdown.png\" alt=\"Image description\" width=\"600\" height=\"300\"><br>\n",
    "![Image description](markdown.png)"
   ]
  },
  {
   "cell_type": "markdown",
   "metadata": {},
   "source": [
    "<!-- Line -->\n",
    "\n",
    "---\n",
    "***\n",
    "___"
   ]
  },
  {
   "cell_type": "markdown",
   "metadata": {},
   "source": [
    "<!-- Table -->\n",
    "\n",
    "<!-- 좌측, 우측, 중앙 정렬 (Header 및 Cell 부분 모두 포함) -->\n",
    "|Header|Description|Else|\n",
    "|----:|:----|:---:|\n",
    "|Cell1|Cell2|Cell3|\n",
    "|Cell1|Cell2|Cell3|\n",
    "|Cell1|Cell2|Cell3|\n",
    "\n",
    "<br>\n",
    "\n",
    "<!-- Header 부분만 다르게 정렬하려는 경우 HTML 사용 -->\n",
    "| <div align=\"center\">Header</div> | <div align=\"left\">Description</div> | <div align=\"right\">Else</div> |\n",
    "|----:|:----|:---:|\n",
    "|Cell1Cell1Cell1|Cell2Cell2Cell2|Cell3Cell3Cell3|\n",
    "|Cell1Cell1Cell1|Cell2Cell2Cell2|Cell3Cell3Cell3|\n",
    "|Cell1Cell1Cell1|Cell2Cell2Cell2|Cell3Cell3Cell3|"
   ]
  }
 ],
 "metadata": {
  "language_info": {
   "name": "python"
  }
 },
 "nbformat": 4,
 "nbformat_minor": 2
}
