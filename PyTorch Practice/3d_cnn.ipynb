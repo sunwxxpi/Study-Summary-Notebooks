{
 "cells": [
  {
   "cell_type": "markdown",
   "metadata": {},
   "source": [
    "### CT 및 MRI Scan 데이터에 3D Convolutional Neural Network을 적용하기 위한 예제 코드입니다."
   ]
  },
  {
   "cell_type": "code",
   "execution_count": null,
   "metadata": {},
   "outputs": [],
   "source": [
    "import torch\n",
    "\n",
    "my_tensor_1 = torch.randint(0, 3, (1, 1, 4, 4, 4)) # (batch_size, in_channels, H, W, D)를 의미\n",
    "my_tensor_1 = my_tensor_1.float()\n",
    "\n",
    "# conv1 = torch.nn.Conv3d(in_channels=1, out_channels=1, kernel_size=2, stride=1, padding=0)\n",
    "# print(conv1.weight) # (1, 1, 2, 2, 2) -> (out_channels(filter_num), in_channels, kernel_size)를 의미\n",
    "# print(conv1.bias) # (1, )\n",
    "\n",
    "conv2 = torch.nn.Conv3d(in_channels=1, out_channels=2, kernel_size=2, stride=1, padding=0)\n",
    "print(conv2.weight) # (2, 1, 2, 2, 2) -> (out_channels(filter_num), in_channels, kernel_size)를 의미\n",
    "print(conv2.bias) # (2, )\n",
    "\n",
    "F2 = conv2(my_tensor_1)\n",
    "print(F2) # (1, 2, 3, 3, 3) -> (batch_size, out_channels, D, H, W)를 의미"
   ]
  },
  {
   "cell_type": "code",
   "execution_count": null,
   "metadata": {},
   "outputs": [],
   "source": [
    "import torch\n",
    "\n",
    "my_tensor_2 = torch.randint(0, 3, (1, 2, 4, 4, 4)) # (batch_size, in_channels, H, W, D)를 의미\n",
    "my_tensor_2 = my_tensor_2.float()\n",
    "\n",
    "conv3 = torch.nn.Conv3d(in_channels=2, out_channels=1, kernel_size=2, stride=1, padding=0)\n",
    "print(conv3.weight) # (1, 2, 2, 2, 2) -> (out_channels(filter num), in_channels, kernel_size)를 의미\n",
    "print(conv3.bias) # (1, )\n",
    "\n",
    "F3 = conv3(my_tensor_2)\n",
    "print(F3) # (1, 1, 3, 3, 3) -> (batch_size, out_channels, D, H, W)를 의미\n",
    "\n",
    "conv4 = torch.nn.Conv3d(in_channels=2, out_channels=2, kernel_size=2, stride=1, padding=0)\n",
    "print(conv4.weight) # (2, 2, 2, 2, 2) -> (out_channels(filter num), in_channels, kernel_size)를 의미\n",
    "print(conv4.bias) # (2,) -> out_channels(filter num)를 의미\n",
    "\n",
    "F4 = conv4(my_tensor_2)\n",
    "print(F4) # (1, 2, 3, 3, 3) -> (batch_size, out_channels, D, H, W)를 의미"
   ]
  }
 ],
 "metadata": {
  "language_info": {
   "name": "python"
  }
 },
 "nbformat": 4,
 "nbformat_minor": 2
}
