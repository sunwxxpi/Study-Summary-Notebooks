{
 "cells": [
  {
   "cell_type": "markdown",
   "metadata": {},
   "source": [
    "# 출제 빈도가 높은 알고리즘 유형\n",
    "- 그리디\n",
    "- 구현\n",
    "- DFS / BFS를 활용한 탐색\n",
    "\n",
    "<img src=\"algorithm.png\" alt=\"\" width=\"600\" height=\"300\"><br>\n",
    "[출처 : \"동빈나\" from YouTube](http://youtube.com/watch?v=m-9pAwq1o3w&list=PLRx0vPvlEmdAghTr5mXQxGpHjWqSz0dgC&index=2)"
   ]
  },
  {
   "cell_type": "markdown",
   "metadata": {},
   "source": [
    "# Tips for Algorithm"
   ]
  },
  {
   "cell_type": "code",
   "execution_count": null,
   "metadata": {},
   "outputs": [],
   "source": [
    "# 빠르게 사용자의 입력을 받을 수 있다. input() 대신 사용\n",
    "import sys\n",
    "\n",
    "data = sys.stdin.readline().rstrip() # 참고 : 실제로는 잘 동작하지만, Jupyter(.ipynb) 환경에서는 동작 x\n",
    "print(data)\n",
    "\n",
    "# \"/n\"를 포함하여 여러 줄 입력 받기. 단, 입력의 끝을 알리기 위해 EOF를 입력해야 한다.\n",
    "data_2 = sys.stdin.readlines() # End Of File (EOF) : ctrl + d (UNIX), ctrl + z (Windows)\n",
    "print(data_2)"
   ]
  },
  {
   "cell_type": "code",
   "execution_count": null,
   "metadata": {},
   "outputs": [],
   "source": [
    "# 순열과 조합\n",
    "\n",
    "# {'A', 'B', 'C'}\n",
    "# 순열(nPr) : 서로 다른 n개에서 서로 다른 r개를 선택하여 일렬로 나열\n",
    "#   3P2 : 3 * 2 : AB AC BA BC CA CB\n",
    "# 조합(nCr) : 서로 다른 n개에서 순서에 상관없이 서로 다른 r개를 선택\n",
    "#   3C2 : 3 * 2 / 2! : AB AC BC\n",
    "\n",
    "from itertools import permutations, combinations, product, combinations_with_replacement\n",
    "\n",
    "data = ['A', 'B', 'C', 'D']\n",
    "\n",
    "permu = list(permutations(data, 3)) # 순열\n",
    "print(permu)\n",
    "combi = list(combinations(data, 2)) # 조합\n",
    "print(combi)\n",
    "produ = list(product(data, repeat=2)) # 중복 순열 : 2개를 뽑는 모든 순열 (중복 허용)\n",
    "print(produ)\n",
    "combi_repl = list(combinations_with_replacement(data, 2)) # 중복 조합 : 2개를 뽑는 모든 조합 (중복 허용)\n",
    "print(combi_repl)"
   ]
  },
  {
   "cell_type": "code",
   "execution_count": 10,
   "metadata": {},
   "outputs": [
    {
     "name": "stdout",
     "output_type": "stream",
     "text": [
      "2 1 3\n",
      "{'red': 2, 'blue': 3, 'green': 1}\n",
      "['red', 'blue', 'green']\n"
     ]
    }
   ],
   "source": [
    "# Counter\n",
    "from collections import Counter\n",
    "\n",
    "list1 = ['red', 'blue', 'red', 'green', 'blue', 'blue']\n",
    "counter = Counter(list1)\n",
    "print(counter['red'], counter['green'], counter['blue'])\n",
    "print(dict(counter))\n",
    "\n",
    "# Counter 활용\n",
    "lst = [2, 2, 3, 3, 3, 1, 1, 1]\n",
    "\n",
    "# 리스트에서 가장 많이 등장한 수의 개수를 구합니다\n",
    "counts = Counter(lst)\n",
    "max_count = max(counts.values())\n",
    "\n",
    "if list(counts.values()).count(max_count) >= 2:\n",
    "    print(\"가장 많이 등장한 수의 종류는 2종류 이상입니다\")\n",
    "else:\n",
    "    print(\"가장 많이 등장한 수의 종류는 1종류입니다\")\n",
    "\n",
    "# 가장 많이 등장한 수의 종류를 리스트에 저장합니다\n",
    "most_common = [num for num, count in counts.items() if count == max_count]\n",
    "\n",
    "# 리스트를 정렬하고 출력합니다\n",
    "most_common.sort()\n",
    "print(f\"가장 많이 등장한 수의 종류 : {most_common}\")"
   ]
  },
  {
   "cell_type": "code",
   "execution_count": 11,
   "metadata": {},
   "outputs": [
    {
     "name": "stdout",
     "output_type": "stream",
     "text": [
      "7\n",
      "42\n",
      "42\n"
     ]
    }
   ],
   "source": [
    "# 최대 공약수 & 최소 공배수\n",
    "from math import gcd, lcm\n",
    "\n",
    "a, b = 21, 14\n",
    "print(gcd(a, b)) # Greatest Common Divisor (최대 공약수)\n",
    "print(lcm(a, b)) # Least Common Multiple (최소 공배수)"
   ]
  }
 ],
 "metadata": {
  "kernelspec": {
   "display_name": "Python 3",
   "language": "python",
   "name": "python3"
  },
  "language_info": {
   "codemirror_mode": {
    "name": "ipython",
    "version": 3
   },
   "file_extension": ".py",
   "mimetype": "text/x-python",
   "name": "python",
   "nbconvert_exporter": "python",
   "pygments_lexer": "ipython3",
   "version": "3.12.2"
  }
 },
 "nbformat": 4,
 "nbformat_minor": 2
}
